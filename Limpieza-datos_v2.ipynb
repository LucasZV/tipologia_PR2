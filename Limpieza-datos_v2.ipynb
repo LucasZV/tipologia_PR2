{
  "cells": [
    {
      "cell_type": "markdown",
      "metadata": {
        "id": "U93rm4d5OBtr"
      },
      "source": [
        "# **Práctica 2 (25% nota final): Tipologia y ciclo de vida de los datos**\n",
        "\n",
        "En esta práctica se elabora un caso práctico orientado a aprender a identificar los datos relevantes para un proyecto analítico y usar las herramientas de integración, limpieza, validación y análisis de los mismos. Para realizar esta práctica se requiere trabajar en grupos de dos personas.\n",
        "La entrega de esta práctica se ha de realizar según lo especificado en el apartado Formato y fecha de entrega. Se debe entregar una memoria PDF con las respuestas a los diferentes apartados, un repositorio con el código fuente y un vídeo explicativo, en el que ambos integrantes del grupo comenten los aspectos más relevantes del proyecto."
      ]
    },
    {
      "cell_type": "markdown",
      "metadata": {
        "id": "Pvg3RPK9OBtu"
      },
      "source": [
        "## **Competencias**\n",
        "En esta práctica se desarrollan las siguientes competencias del Máster de Data Science:\n",
        "\n",
        "● Capacidad de analizar un problema en el nivel de abstracción adecuado a cada situación y aplicar las habilidades y conocimientos adquiridos para abordarlo y resolverlo.  \n",
        "● Capacidad para aplicar las técnicas específicas de tratamiento de datos (integración, transformación, limpieza y validación) para su posterior análisis.  \n",
        "\n",
        "## **Objetivos**\n",
        "Los objetivos concretos de esta práctica son:\n",
        "\n",
        "● Aprender a aplicar los conocimientos adquiridos y su capacidad de resolución de problemas en entornos nuevos o poco conocidos dentro de contextos más amplios o multidisciplinares.  \n",
        "● Saber identificar los datos relevantes y los tratamientos necesarios (integración, limpieza y validación) para llevar a cabo un proyecto analítico.  \n",
        "● Aprender a analizar los datos adecuadamente para abordar la información contenida en los datos.  \n",
        "● Identificar la mejor representación de los resultados para aportar conclusiones sobre el problema planteado en el proceso analítico.    \n",
        "● Actuar con los principios éticos y legales relacionados con la manipulación de datos en función del ámbito de aplicación.  \n",
        "● Desarrollar las habilidades de aprendizaje que les permitan continuar estudiando de un modo que tendrá que ser en gran medida autodirigido o autónomo.  \n",
        "● Desarrollar la capacidad de búsqueda, gestión y uso de información y recursos en el ámbito de la ciencia de datos.  \n",
        "\n",
        "## **Descripción de la Práctica a realizar**\n",
        "El objetivo de esta actividad será el tratamiento del dataset creado en la Práctica 1.\n",
        "Importante: el dataset debe contar con una amplia variedad de datos numéricos y categóricos, entre los que se encuentre al menos una variable objetivo, así como contar con datos faltantes y/o erróneos, para poder realizar un análisis más rico y poder responder a las diferentes preguntas planteadas en el enunciado de la práctica. De no ser así, se deberá buscar la forma de integrar más datos que cumplan con estos requisitos en la etapa de integración (apartado 2).\n",
        "\n",
        "Siguiendo las principales etapas de un proyecto analítico, las diferentes tareas a realizar (y justificar) son las siguientes:"
      ]
    },
    {
      "cell_type": "code",
      "execution_count": null,
      "metadata": {
        "colab": {
          "base_uri": "https://localhost:8080/"
        },
        "id": "FQRIqUGfOR0I",
        "outputId": "c29187d8-157d-435c-d994-f2bad03caaa8"
      },
      "outputs": [
        {
          "name": "stdout",
          "output_type": "stream",
          "text": [
            "Drive already mounted at /content/drive; to attempt to forcibly remount, call drive.mount(\"/content/drive\", force_remount=True).\n"
          ]
        }
      ],
      "source": [
        "#from google.colab import drive\n",
        "#drive.mount('/content/drive')"
      ]
    },
    {
      "cell_type": "markdown",
      "metadata": {
        "id": "KNx3NZGkOBtu"
      },
      "source": [
        "# **Registro de la Flota Pesquera Española: Características y Distribución**"
      ]
    },
    {
      "cell_type": "markdown",
      "metadata": {
        "id": "-GEqcwOqOBtu"
      },
      "source": [
        "## **1. Descripción del dataset.**\n",
        "* ¿Por qué es importante y qué pregunta/problema pretende responder?\n",
        "* Resume brevemente las variables que lo forman y su tamaño.\n"
      ]
    },
    {
      "cell_type": "code",
      "execution_count": 1,
      "metadata": {
        "id": "bRU_CEfnOcE_"
      },
      "outputs": [],
      "source": [
        "# Librerias\n",
        "import pandas as pd\n",
        "import numpy as np\n",
        "import re\n",
        "import seaborn as sns\n",
        "import matplotlib.pyplot as plt\n",
        "from sklearn.impute import KNNImputer\n"
      ]
    },
    {
      "cell_type": "code",
      "execution_count": 2,
      "metadata": {
        "id": "yo03o2wUOBtu"
      },
      "outputs": [],
      "source": [
        "data = pd.read_csv(\"./data/datos_buques_ESP.csv\")"
      ]
    },
    {
      "cell_type": "code",
      "execution_count": 3,
      "metadata": {
        "colab": {
          "base_uri": "https://localhost:8080/",
          "height": 414
        },
        "id": "S91joe4XOBtv",
        "outputId": "7562dfd8-7dd8-40d2-d34e-51231f9b9007"
      },
      "outputs": [
        {
          "data": {
            "text/html": [
              "<div>\n",
              "<style scoped>\n",
              "    .dataframe tbody tr th:only-of-type {\n",
              "        vertical-align: middle;\n",
              "    }\n",
              "\n",
              "    .dataframe tbody tr th {\n",
              "        vertical-align: top;\n",
              "    }\n",
              "\n",
              "    .dataframe thead th {\n",
              "        text-align: right;\n",
              "    }\n",
              "</style>\n",
              "<table border=\"1\" class=\"dataframe\">\n",
              "  <thead>\n",
              "    <tr style=\"text-align: right;\">\n",
              "      <th></th>\n",
              "      <th>CFR</th>\n",
              "      <th>Nombre</th>\n",
              "      <th>IMO</th>\n",
              "      <th>IRCS</th>\n",
              "      <th>Matrícula</th>\n",
              "      <th>Alta en RGFP</th>\n",
              "      <th>Estado</th>\n",
              "      <th>Eslora total</th>\n",
              "      <th>Arqueo GT</th>\n",
              "      <th>Potencia</th>\n",
              "      <th>Material del casco</th>\n",
              "      <th>Puerto base</th>\n",
              "      <th>Administración responsable del Registro</th>\n",
              "      <th>Censo por modalidad</th>\n",
              "      <th>Capacidad del buque no aportable por:</th>\n",
              "      <th>Tipo de auxiliar</th>\n",
              "    </tr>\n",
              "  </thead>\n",
              "  <tbody>\n",
              "    <tr>\n",
              "      <th>0</th>\n",
              "      <td>ESP000000001</td>\n",
              "      <td>ARGOÑOS</td>\n",
              "      <td>-</td>\n",
              "      <td>EA7682</td>\n",
              "      <td>3ST-4-2467</td>\n",
              "      <td>10/05/1989</td>\n",
              "      <td>Baja Definitiva (desde el 02/12/1998)</td>\n",
              "      <td>0,00 m</td>\n",
              "      <td>52,70</td>\n",
              "      <td>202,26 kW (275,0 CV)</td>\n",
              "      <td>Madera</td>\n",
              "      <td>21250 - Vicedo, LUGO (GALICIA)</td>\n",
              "      <td>Secretaría General de Pesca</td>\n",
              "      <td>CERCO EN CANTABRICO NW</td>\n",
              "      <td>NaN</td>\n",
              "      <td>NaN</td>\n",
              "    </tr>\n",
              "    <tr>\n",
              "      <th>1</th>\n",
              "      <td>ESP000000002</td>\n",
              "      <td>MARIA INSOLINA</td>\n",
              "      <td>-</td>\n",
              "      <td>EB6932</td>\n",
              "      <td>3ST-4-2181</td>\n",
              "      <td>10/05/1989</td>\n",
              "      <td>Baja Definitiva (desde el 30/06/1990)</td>\n",
              "      <td>10,75 m</td>\n",
              "      <td>0,00</td>\n",
              "      <td>35,30 kW (48,0 CV)</td>\n",
              "      <td>Madera</td>\n",
              "      <td>13400 - Santander, CANTABRIA</td>\n",
              "      <td>Secretaría General de Pesca</td>\n",
              "      <td>ARTES MENORES EN CANTABRICO NW</td>\n",
              "      <td>NaN</td>\n",
              "      <td>NaN</td>\n",
              "    </tr>\n",
              "    <tr>\n",
              "      <th>2</th>\n",
              "      <td>ESP000000003</td>\n",
              "      <td>MOWINKEL II</td>\n",
              "      <td>-</td>\n",
              "      <td>-</td>\n",
              "      <td>3ST-4-2500</td>\n",
              "      <td>10/05/1989</td>\n",
              "      <td>Baja Definitiva (desde el 16/02/2005)</td>\n",
              "      <td>11,25 m</td>\n",
              "      <td>6,76</td>\n",
              "      <td>44,13 kW (60,0 CV)</td>\n",
              "      <td>Madera</td>\n",
              "      <td>43100 - Ceuta</td>\n",
              "      <td>Secretaría General de Pesca</td>\n",
              "      <td>PALANGRE DE FONDO EN CANTABRICO NW</td>\n",
              "      <td>NaN</td>\n",
              "      <td>NaN</td>\n",
              "    </tr>\n",
              "    <tr>\n",
              "      <th>3</th>\n",
              "      <td>ESP000000004</td>\n",
              "      <td>JULIA NUMERO TRES</td>\n",
              "      <td>-</td>\n",
              "      <td>-</td>\n",
              "      <td>3ST-4-2281</td>\n",
              "      <td>10/05/1989</td>\n",
              "      <td>Baja Definitiva (desde el 26/08/1994)</td>\n",
              "      <td>0,00 m</td>\n",
              "      <td>0,00</td>\n",
              "      <td>44,13 kW (60,0 CV)</td>\n",
              "      <td>Madera</td>\n",
              "      <td>13400 - Santander, CANTABRIA</td>\n",
              "      <td>Secretaría General de Pesca</td>\n",
              "      <td>VOLANTA EN CANTABRICO NW</td>\n",
              "      <td>NaN</td>\n",
              "      <td>NaN</td>\n",
              "    </tr>\n",
              "    <tr>\n",
              "      <th>4</th>\n",
              "      <td>ESP000000005</td>\n",
              "      <td>SIEMPRE HERMANOS EZQUIAGA</td>\n",
              "      <td>-</td>\n",
              "      <td>EA6583</td>\n",
              "      <td>3ST-4-2540</td>\n",
              "      <td>10/05/1989</td>\n",
              "      <td>Baja Definitiva (desde el 15/11/2006)</td>\n",
              "      <td>19,60 m</td>\n",
              "      <td>40,00</td>\n",
              "      <td>169,16 kW (230,0 CV)</td>\n",
              "      <td>Madera</td>\n",
              "      <td>12200 - Bermeo, BIZKAIA (PAÍS VASCO)</td>\n",
              "      <td>Secretaría General de Pesca</td>\n",
              "      <td>ARTES MENORES EN CANTABRICO NW</td>\n",
              "      <td>NaN</td>\n",
              "      <td>NaN</td>\n",
              "    </tr>\n",
              "  </tbody>\n",
              "</table>\n",
              "</div>"
            ],
            "text/plain": [
              "            CFR                     Nombre IMO    IRCS   Matrícula  \\\n",
              "0  ESP000000001                    ARGOÑOS   -  EA7682  3ST-4-2467   \n",
              "1  ESP000000002             MARIA INSOLINA   -  EB6932  3ST-4-2181   \n",
              "2  ESP000000003                MOWINKEL II   -       -  3ST-4-2500   \n",
              "3  ESP000000004          JULIA NUMERO TRES   -       -  3ST-4-2281   \n",
              "4  ESP000000005  SIEMPRE HERMANOS EZQUIAGA   -  EA6583  3ST-4-2540   \n",
              "\n",
              "  Alta en RGFP                                 Estado Eslora total Arqueo GT  \\\n",
              "0   10/05/1989  Baja Definitiva (desde el 02/12/1998)       0,00 m     52,70   \n",
              "1   10/05/1989  Baja Definitiva (desde el 30/06/1990)      10,75 m      0,00   \n",
              "2   10/05/1989  Baja Definitiva (desde el 16/02/2005)      11,25 m      6,76   \n",
              "3   10/05/1989  Baja Definitiva (desde el 26/08/1994)       0,00 m      0,00   \n",
              "4   10/05/1989  Baja Definitiva (desde el 15/11/2006)      19,60 m     40,00   \n",
              "\n",
              "               Potencia Material del casco  \\\n",
              "0  202,26 kW (275,0 CV)             Madera   \n",
              "1    35,30 kW (48,0 CV)             Madera   \n",
              "2    44,13 kW (60,0 CV)             Madera   \n",
              "3    44,13 kW (60,0 CV)             Madera   \n",
              "4  169,16 kW (230,0 CV)             Madera   \n",
              "\n",
              "                            Puerto base  \\\n",
              "0        21250 - Vicedo, LUGO (GALICIA)   \n",
              "1          13400 - Santander, CANTABRIA   \n",
              "2                         43100 - Ceuta   \n",
              "3          13400 - Santander, CANTABRIA   \n",
              "4  12200 - Bermeo, BIZKAIA (PAÍS VASCO)   \n",
              "\n",
              "  Administración responsable del Registro                 Censo por modalidad  \\\n",
              "0             Secretaría General de Pesca              CERCO EN CANTABRICO NW   \n",
              "1             Secretaría General de Pesca      ARTES MENORES EN CANTABRICO NW   \n",
              "2             Secretaría General de Pesca  PALANGRE DE FONDO EN CANTABRICO NW   \n",
              "3             Secretaría General de Pesca            VOLANTA EN CANTABRICO NW   \n",
              "4             Secretaría General de Pesca      ARTES MENORES EN CANTABRICO NW   \n",
              "\n",
              "  Capacidad del buque no aportable por: Tipo de auxiliar  \n",
              "0                                   NaN              NaN  \n",
              "1                                   NaN              NaN  \n",
              "2                                   NaN              NaN  \n",
              "3                                   NaN              NaN  \n",
              "4                                   NaN              NaN  "
            ]
          },
          "execution_count": 3,
          "metadata": {},
          "output_type": "execute_result"
        }
      ],
      "source": [
        "data.head(5)"
      ]
    },
    {
      "cell_type": "markdown",
      "metadata": {
        "id": "oI5C25wDOBtw"
      },
      "source": [
        "## **3. Limpieza de los datos.**\n",
        "\n"
      ]
    },
    {
      "cell_type": "markdown",
      "metadata": {
        "id": "zvKF7pXnVUcl"
      },
      "source": [
        "### **3.1. ¿Los datos contienen ceros, elementos vacíos u otros valores numéricos que indiquen la pérdida de datos? Gestiona cada uno de estos casos utilizando el método de imputación que consideres más adecuado.**"
      ]
    },
    {
      "cell_type": "markdown",
      "metadata": {
        "id": "966BGX6Q228v"
      },
      "source": [
        "* **Revisión de duplicados**"
      ]
    },
    {
      "cell_type": "code",
      "execution_count": 4,
      "metadata": {
        "colab": {
          "base_uri": "https://localhost:8080/"
        },
        "id": "zS3ZaIGI26UG",
        "outputId": "5a1f5554-c5d8-42f3-8486-046a5ca3483a"
      },
      "outputs": [
        {
          "data": {
            "text/plain": [
              "np.int64(0)"
            ]
          },
          "execution_count": 4,
          "metadata": {},
          "output_type": "execute_result"
        }
      ],
      "source": [
        "data['CFR'].duplicated().sum()"
      ]
    },
    {
      "cell_type": "markdown",
      "metadata": {
        "id": "lPwY08JY3DUI"
      },
      "source": [
        "**No hay duplicados en el dataset.**"
      ]
    },
    {
      "cell_type": "markdown",
      "metadata": {
        "id": "qomyNALt3JZO"
      },
      "source": [
        "* **Identificación de valores vacíos y/o nulos**"
      ]
    },
    {
      "cell_type": "code",
      "execution_count": 5,
      "metadata": {
        "colab": {
          "base_uri": "https://localhost:8080/"
        },
        "id": "fgq-JhJF3peH",
        "outputId": "99a343d0-e88c-4661-e716-05c053f40214"
      },
      "outputs": [
        {
          "name": "stdout",
          "output_type": "stream",
          "text": [
            "                                         total  nulos  vacios  solo_espacios  \\\n",
            "Tipo de auxiliar                         27364  27363       0              0   \n",
            "Capacidad del buque no aportable por:    27364  27220       0              0   \n",
            "IMO                                      27364      0       0              0   \n",
            "IRCS                                     27364      0       0              0   \n",
            "Potencia                                 27364      0       0              0   \n",
            "Arqueo GT                                27364      0       0              0   \n",
            "Censo por modalidad                      27364      1       0              0   \n",
            "Eslora total                             27364      0       0              0   \n",
            "Material del casco                       27364      0       0              0   \n",
            "CFR                                      27364      0       0              0   \n",
            "Matrícula                                27364      0       0              0   \n",
            "Nombre                                   27364      0       0              0   \n",
            "Estado                                   27364      0       0              0   \n",
            "Alta en RGFP                             27364      0       0              0   \n",
            "Puerto base                              27364      0       0              0   \n",
            "Administración responsable del Registro  27364      0       0              0   \n",
            "\n",
            "                                         solo_caracteres_especiales  ceros  \\\n",
            "Tipo de auxiliar                                                  1      0   \n",
            "Capacidad del buque no aportable por:                             0      0   \n",
            "IMO                                                           26267      0   \n",
            "IRCS                                                          20495      0   \n",
            "Potencia                                                          0   2718   \n",
            "Arqueo GT                                                         0   2474   \n",
            "Censo por modalidad                                            2296      0   \n",
            "Eslora total                                                      0   1986   \n",
            "Material del casco                                               24      0   \n",
            "CFR                                                               0      3   \n",
            "Matrícula                                                         0      0   \n",
            "Nombre                                                            0      0   \n",
            "Estado                                                            0      0   \n",
            "Alta en RGFP                                                      0      0   \n",
            "Puerto base                                                       0      0   \n",
            "Administración responsable del Registro                           0      0   \n",
            "\n",
            "                                         total_afectados  \n",
            "Tipo de auxiliar                                   27364  \n",
            "Capacidad del buque no aportable por:              27220  \n",
            "IMO                                                26267  \n",
            "IRCS                                               20495  \n",
            "Potencia                                            2718  \n",
            "Arqueo GT                                           2474  \n",
            "Censo por modalidad                                 2297  \n",
            "Eslora total                                        1986  \n",
            "Material del casco                                    24  \n",
            "CFR                                                    3  \n",
            "Matrícula                                              0  \n",
            "Nombre                                                 0  \n",
            "Estado                                                 0  \n",
            "Alta en RGFP                                           0  \n",
            "Puerto base                                            0  \n",
            "Administración responsable del Registro                0  \n"
          ]
        }
      ],
      "source": [
        "def resumen_nulos_vacios_y_ceros(data):\n",
        "    def es_cero(x):\n",
        "        if pd.isna(x):\n",
        "            return False\n",
        "        x_str = str(x).strip().lower()\n",
        "        match = re.search(r'[\\d.,]+', x_str)\n",
        "        if not match:\n",
        "            return False\n",
        "        num = match.group().replace(',', '.')\n",
        "        try:\n",
        "            return float(num) == 0.0\n",
        "        except:\n",
        "            return False\n",
        "\n",
        "    resumen = pd.DataFrame({\n",
        "        'total': data.shape[0],\n",
        "        'nulos': data.isnull().sum(),\n",
        "        'vacios': (data == '').sum(),\n",
        "        'solo_espacios': data.apply(lambda col: col.apply(lambda x: isinstance(x, str) and x.strip() == '')).sum(),\n",
        "        'solo_caracteres_especiales': data.apply(lambda col: col.apply(lambda x: bool(re.fullmatch(r\"[\\W_]+\", str(x).strip())))).sum(),\n",
        "        'ceros': data.apply(lambda col: col.apply(es_cero)).sum()\n",
        "    })\n",
        "    resumen['total_afectados'] = resumen[['nulos', 'vacios', 'solo_espacios', 'solo_caracteres_especiales', 'ceros']].sum(axis=1)\n",
        "    return resumen\n",
        "\n",
        "# Llamar a la función actualizada\n",
        "resumen_anomalias = resumen_nulos_vacios_y_ceros(data)\n",
        "\n",
        "# Mostrar resumen ordenado\n",
        "print(resumen_anomalias.sort_values(by='total_afectados', ascending=False))\n"
      ]
    },
    {
      "cell_type": "markdown",
      "metadata": {
        "id": "yDtVhz5x5-TY"
      },
      "source": [
        "Las columnas con valores problemáticos son `Tipo de auxiliar`, `Capacidad del buque no aportable por:`, `IMO`, `IRCS`, `Censo por modalidad`, `Material del casco`, `Potencia`, `Arqueo GT` y `Eslora total`.   \n",
        "* La columna `Tipo de auxiliar` está completamente vacía o contiene caracteres especiales, por lo que puede eliminarse directamente.\n",
        "* `Capacidad del buque no aportable por:` tiene más del 99% de valores nulos, por lo que también puede eliminarse.\n",
        "* En `IMO` y `IRCS` son dos identificadores del buque que contienen casi en su totalidad (> 80 %) carácteres especiales sin aportar información, por lo que podrían eliminarse. Nos quedaremos con el `CFR` como identificador único del buque.\n",
        "* `Censo por modalidad` contiene unos 2297 registros con carácteres especiales, en concreto (-) y un valor nulo. Puesto que esta columna será procesada para obtener el arte, dichos registros seran agrupados en una categoría de 'Otros', puesto que un buque debe estar registrado en un censo.\n",
        "* `Material del casco` muestra muy pocos registros con carácteres especiales y se procedera a su agrupación en una categoría 'Otros'.\n",
        "* Las columnas `Potencia`, `Arqueo GT` y `Eslora total` muestran entorno a 2000 registros con valor 0, lo cual parece ilógico (un buque no puede tener eslora total de 0 m).\n",
        "\n",
        "En los siguientes apartados, estos valores serán imputados según el método especificado.\n"
      ]
    },
    {
      "cell_type": "markdown",
      "metadata": {
        "id": "pajVrZJq961H"
      },
      "source": [
        "* **Simplificación del nombre de las columnas**\n"
      ]
    },
    {
      "cell_type": "code",
      "execution_count": 6,
      "metadata": {
        "id": "ptbJCPV3-DAP"
      },
      "outputs": [],
      "source": [
        "columnas_simplificadas = {\n",
        "    'CFR': 'cfr',\n",
        "    'Nombre': 'nombre',\n",
        "    'Matrícula': 'matricula',\n",
        "    'Alta en RGFP': 'fc_alta_rgfp',\n",
        "    'Estado': 'estado',\n",
        "    'Eslora total': 'eslora_total',\n",
        "    'Arqueo GT': 'arqueo_gt',\n",
        "    'Potencia': 'potencia',\n",
        "    'Material del casco': 'material_casco',\n",
        "    'Puerto base': 'puerto_base',\n",
        "    'Administración responsable del Registro': 'admin_registro',\n",
        "    'Censo por modalidad': 'censo_modalidad',\n",
        "    'Tipo de auxiliar' : 'tipo_auxiliar',\n",
        "    'Capacidad del buque no aportable por:' : 'capacidad_no_aportable',\n",
        "    'Material del casco' : 'material_casco',\n",
        "    'IMO' : 'IMO',\n",
        "    'IRCS': 'IRCS'\n",
        "}\n",
        "\n",
        "data = data.rename(columns=columnas_simplificadas)"
      ]
    },
    {
      "cell_type": "code",
      "execution_count": 7,
      "metadata": {
        "colab": {
          "base_uri": "https://localhost:8080/"
        },
        "id": "j_427XqM-C3v",
        "outputId": "fd67455c-fc24-4871-d243-53e757ef0b33"
      },
      "outputs": [
        {
          "data": {
            "text/plain": [
              "['cfr',\n",
              " 'nombre',\n",
              " 'IMO',\n",
              " 'IRCS',\n",
              " 'matricula',\n",
              " 'fc_alta_rgfp',\n",
              " 'estado',\n",
              " 'eslora_total',\n",
              " 'arqueo_gt',\n",
              " 'potencia',\n",
              " 'material_casco',\n",
              " 'puerto_base',\n",
              " 'admin_registro',\n",
              " 'censo_modalidad',\n",
              " 'capacidad_no_aportable',\n",
              " 'tipo_auxiliar']"
            ]
          },
          "execution_count": 7,
          "metadata": {},
          "output_type": "execute_result"
        }
      ],
      "source": [
        "data.columns.tolist()"
      ]
    },
    {
      "cell_type": "markdown",
      "metadata": {
        "id": "OXUyPvqn-qTZ"
      },
      "source": [
        "Se han simplificado y estandarizado los nombres de las columnas del dataset pues trae múltiples beneficios: facilita la escritura y lectura del código al eliminar espacios y caracteres especiales, mejora la compatibilidad con bibliotecas y herramientas que no toleran bien nombres complejos, y permite trabajar más eficientemente con funciones automatizadas o en bucles. Además, usar nombres cortos, en minúsculas y con formato consistente (como `snake_case`) mejora la legibilidad, reduce errores y hace que el código sea más limpio, profesional y fácil de mantener, especialmente en proyectos colaborativos como el presente.\n"
      ]
    },
    {
      "cell_type": "markdown",
      "metadata": {
        "id": "UcVGEtMWEMjM"
      },
      "source": [
        "### **3.2. Identifica y gestiona adecuadamente el tipo de dato de cada atributo (p.ej. conversión de variables categóricas en factor).**"
      ]
    },
    {
      "cell_type": "markdown",
      "metadata": {
        "id": "WqIBQ2zQB8qy"
      },
      "source": [
        "* **Errores deduciendo el tipo de dato (1)**\n",
        "\n",
        "Parece que columnas como \"Eslora total\", \"Arqueo GT\" y \"Potencia\" deberían ser numéricas pero están como object."
      ]
    },
    {
      "cell_type": "code",
      "execution_count": 8,
      "metadata": {
        "id": "rGFjIBxTC0T7"
      },
      "outputs": [],
      "source": [
        "# Función para limpiar columnas numéricas con texto, unidades y comas\n",
        "def limpiar_y_convertir_num(col):\n",
        "    return (\n",
        "        col.astype(str)  # Asegura que todo sea string\n",
        "        .str.replace(r'[^\\d,.-]', '', regex=True)  # Elimina letras y unidades\n",
        "        .str.replace(',', '.', regex=False)  # Sustituye comas por puntos como separador decimal\n",
        "        .replace('', np.nan)  # Reemplaza strings vacíos por NaN\n",
        "        .astype(float)  # Convierte a float\n",
        "    )"
      ]
    },
    {
      "cell_type": "code",
      "execution_count": 9,
      "metadata": {
        "id": "xSFK0NM-Cyr1"
      },
      "outputs": [],
      "source": [
        "# Aplicar la limpieza a las columnas indicadas\n",
        "data['eslora_total'] = limpiar_y_convertir_num(data['eslora_total'])\n",
        "data['arqueo_gt'] = limpiar_y_convertir_num(data['arqueo_gt'])\n",
        "\n",
        "# Para 'potencia', primero extraemos solo el número principal (antes de paréntesis o texto)\n",
        "data['potencia_kw'] = (\n",
        "    data['potencia']\n",
        "    .astype(str)\n",
        "    .str.extract(r'([\\d,.]+)')  # Extrae solo el primer número\n",
        "    [0]\n",
        "    .str.replace(',', '.', regex=False)\n",
        "    .astype(float)\n",
        ")\n"
      ]
    },
    {
      "cell_type": "code",
      "execution_count": 10,
      "metadata": {
        "colab": {
          "base_uri": "https://localhost:8080/"
        },
        "id": "3hLofyzDG_4O",
        "outputId": "8d2ec514-bf5f-47d1-8b5b-3f90a17fc55b"
      },
      "outputs": [
        {
          "name": "stdout",
          "output_type": "stream",
          "text": [
            "Valores únicos en 'eslora_total':\n",
            "[ 0.   10.75 11.25 ... 75.05 46.85 86.1 ]\n",
            "Tipo de dato: float64\n",
            "--------------------\n",
            "Valores únicos en 'arqueo_gt':\n",
            "[  52.7     0.      6.76 ... 2498.     57.46 4290.  ]\n",
            "Tipo de dato: float64\n",
            "--------------------\n",
            "Valores únicos en 'potencia_kw':\n",
            "[ 202.26   35.3    44.13 ... 4000.    261.03  776.  ]\n",
            "Tipo de dato: float64\n",
            "--------------------\n"
          ]
        }
      ],
      "source": [
        "column_list = ['eslora_total', 'arqueo_gt', 'potencia_kw']\n",
        "for col_name in column_list:\n",
        "    print(f\"Valores únicos en '{col_name}':\")\n",
        "    print(data[col_name].unique())\n",
        "    print(f\"Tipo de dato: {data[col_name].dtype}\")\n",
        "    print(\"-\" * 20)"
      ]
    },
    {
      "cell_type": "markdown",
      "metadata": {
        "id": "j0RbTbNcfEKZ"
      },
      "source": [
        "La limpieza y conversión de las columnas **eslora_total**, **arqueo_gt** y **potencia** fueron necesarias para garantizar una correcta interpretación y análisis de los datos. Originalmente, estas columnas estaban almacenadas como texto (`object`) debido a varias inconsistencias en su formato. Por ejemplo, **eslora_total** y **arqueo_gt** incluían unidades de medida como `'m'` o caracteres no numéricos, y usaban comas `,` como separador decimal en lugar del punto `.` que Python espera para tratar valores numéricos. Esto impedía realizar cálculos o análisis estadísticos directamente.\n",
        "\n",
        "En el caso de la columna **potencia**, el problema era aún más complejo: contenía información duplicada en diferentes unidades, como `'202,26 kW (275,0 CV)'`, lo que requería extraer y estandarizar los valores en una sola unidad (por ejemplo, kilovatios). Esta conversión fue esencial para permitir análisis consistentes y precisos, como comparaciones o agregaciones. En resumen, la limpieza de estas columnas fue un paso fundamental para transformar datos heterogéneos y mal estructurados en formatos numéricos válidos y útiles para el procesamiento posterior.\n"
      ]
    },
    {
      "cell_type": "markdown",
      "metadata": {
        "id": "aizEZ2iFII2_"
      },
      "source": [
        "* **Errores deduciendo el tipo de dato (2)**\n",
        "\n",
        "Parece que la columna  \"fc_alta_rgfp\" deberia ser tipo fecha pero están como object."
      ]
    },
    {
      "cell_type": "code",
      "execution_count": 11,
      "metadata": {
        "id": "kVDP73KYJkhX"
      },
      "outputs": [],
      "source": [
        "# Convertir columna alta_rgfp a datetime\n",
        "data['fc_alta_rgfp'] = pd.to_datetime(data['fc_alta_rgfp'], dayfirst=True, errors='coerce')"
      ]
    },
    {
      "cell_type": "markdown",
      "metadata": {
        "id": "Sw5QA7bdnb7Y"
      },
      "source": [
        "La conversión de la columna **alta_rgfp** a tipo fecha es necesaria porque originalmente los valores estaban almacenados como texto (`object`), lo que impedía aprovechar las funcionalidades específicas que ofrece Python para trabajar con fechas. Este campo representa la **fecha de alta en el Registro General de la Flota Pesquera**, una información temporal clave para análisis cronológicos, cálculos de antigüedad, o filtrado por rangos de fechas.\n",
        "\n",
        "Sin esta conversión, operaciones como agrupar por año, calcular el tiempo desde el alta o identificar registros más recientes/antiguos no serían posibles o resultarían mucho más complejas e imprecisas. Además, al convertir a tipo `datetime`, se garantiza que los datos sean consistentes, se detecten posibles errores de formato y se integren correctamente en herramientas de análisis temporal.\n"
      ]
    },
    {
      "cell_type": "markdown",
      "metadata": {
        "id": "Je688FapwyPG"
      },
      "source": [
        "### **3.3. Normalización semántica de columnas.**"
      ]
    },
    {
      "cell_type": "markdown",
      "metadata": {
        "id": "g8O-GHpGprAY"
      },
      "source": [
        "* **Descomposicion de la columna estado en dos: estado_rgfp y fc_estado**"
      ]
    },
    {
      "cell_type": "code",
      "execution_count": 12,
      "metadata": {
        "id": "tfLIo6cco2Ho"
      },
      "outputs": [],
      "source": [
        "# Extraer estado base (antes del paréntesis) y fecha contenida (si existe)\n",
        "# Estado principal (sin paréntesis)\n",
        "data['estado_rgfp'] = data['estado'].str.extract(r'^([^\\(]+)').iloc[:, 0].str.strip()\n",
        "\n",
        "# Extraer fecha en formato dd/mm/yyyy desde la columna estado\n",
        "data['fc_estado'] = pd.to_datetime(\n",
        "    data['estado'].str.extract(r'(\\d{2}/\\d{2}/\\d{4})')[0],\n",
        "    dayfirst=True,\n",
        "    errors='coerce'\n",
        ")"
      ]
    },
    {
      "cell_type": "markdown",
      "metadata": {
        "id": "swUbGt2IpQSS"
      },
      "source": [
        "La separación de la columna **estado** en dos columnas distintas **estado_rgfp** y **fc_estado** es necesaria para mejorar la claridad, estructura y utilidad de la información contenida en esa variable.\n",
        "\n",
        "Originalmente, la columna **estado** combinaba dos tipos de datos diferentes:\n",
        "\n",
        "1. **Una categoría del estado administrativo del buque** (por ejemplo, “Baja Definitiva”), y\n",
        "2. **Una fecha asociada a ese estado** (por ejemplo, “(desde el 02/12/1998)”).\n",
        "\n",
        "Esta mezcla dificultaba el análisis automatizado, ya que impedía utilizar la fecha como dato temporal y el estado como una etiqueta categórica independiente. Al separar esta información:\n",
        "\n",
        "* **estado_rgfp** permite clasificar fácilmente los buques según su situación actual en el registro, habilitando filtros, estadísticas y análisis por categoría (activos, baja definitiva, etc.).\n",
        "* **fc_estado**, convertida a formato fecha, permite ordenar cronológicamente, calcular antigüedad del estado, o realizar análisis temporales como tendencias de bajas a lo largo del tiempo."
      ]
    },
    {
      "cell_type": "markdown",
      "metadata": {
        "id": "735v_QiZp0yC"
      },
      "source": [
        "* **Descomposicón de la columna puerto_base en dos 4: codigo_postal, puerto, provincia, comunidad**\n"
      ]
    },
    {
      "cell_type": "code",
      "execution_count": 13,
      "metadata": {
        "id": "QKSRC5uEOBtx"
      },
      "outputs": [],
      "source": [
        "# Lista con las provincias españolas\n",
        "provincias = [\n",
        "    'A Coruña', 'Álava', 'Albacete', 'Alicante', 'Almería', 'Asturias', 'Ávila', 'Badajoz',\n",
        "    'Barcelona', 'Burgos', 'Bizkaia', 'Cáceres', 'Cádiz', 'Cantabria', 'Castellón',\n",
        "    'Ciudad Real', 'Córdoba', 'Cuenca', 'Girona', 'Granada', 'Guadalajara',\n",
        "    'Gipuzkoa', 'Huelva', 'Huesca', 'Illes balears', 'Jaén', 'La Coruña',\n",
        "    'La Rioja', 'Las Palmas', 'León', 'Lérida', 'Lugo', 'Madrid', 'Málaga',\n",
        "    'Murcia', 'Navarra', 'Orense', 'Palencia', 'Pontevedra', 'Salamanca',\n",
        "    'Santa Cruz de Tenerife', 'Segovia', 'Sevilla', 'Soria', 'Tarragona',\n",
        "    'Teruel', 'Toledo', 'Valencia', 'Valladolid', 'Vizcaya', 'Zamora', 'Zaragoza',\n",
        "    'Ceuta', 'Melilla'\n",
        "]\n",
        "\n",
        "# Lista con las comnidades autonomas españolas\n",
        "comunidades_autonomas = [\n",
        "    'Andalucía', 'Aragón', 'Asturias', 'Illes balears', 'Canarias', 'Cantabria',\n",
        "    'Castilla-La Mancha', 'Castilla y León', 'Cataluña', 'Comunitat Valenciana',\n",
        "    'Extremadura', 'Galicia', 'Madrid', 'Murcia', 'Navarra', 'La Rioja',\n",
        "    'País Vasco', 'Ceuta', 'Melilla'\n",
        "]\n"
      ]
    },
    {
      "cell_type": "code",
      "execution_count": 14,
      "metadata": {
        "id": "iX4uBExXOBtx"
      },
      "outputs": [],
      "source": [
        "# Función para extraer la información\n",
        "def extraer_info(puerto_base):\n",
        "    codigo_postal = None\n",
        "    puerto = None\n",
        "    provincia = None\n",
        "    comunidad = None\n",
        "\n",
        "    if pd.isna(puerto_base):\n",
        "        return pd.Series([codigo_postal, puerto, provincia, comunidad])\n",
        "\n",
        "    # Extraer código postal (primeros 5 dígitos)\n",
        "    match_cp = re.match(r'(\\d{5})\\s*-\\s*(.*)', puerto_base)\n",
        "    if match_cp:\n",
        "        codigo_postal = match_cp.group(1)\n",
        "        resto = match_cp.group(2).strip()\n",
        "    else:\n",
        "        resto = puerto_base.strip()\n",
        "\n",
        "    # Buscar comunidad y provincia\n",
        "    comunidad = next((c for c in comunidades_autonomas if c.upper() in resto.upper()), None)\n",
        "    provincia = next((p for p in provincias if p.upper() in resto.upper()), None)\n",
        "\n",
        "    # Eliminar contenido entre paréntesis\n",
        "    resto = re.sub(r'\\s*\\(.*?\\)', '', resto).strip()\n",
        "\n",
        "    # Extraer el nombre del puerto (antes de la coma, si hay)\n",
        "    if ',' in resto:\n",
        "        puerto = resto.split(',')[0].strip()\n",
        "    else:\n",
        "        puerto = resto.strip()\n",
        "\n",
        "    # Casos especiales como Ceuta, Melilla (son ciudad, provincia y CCAA al mismo tiempo)\n",
        "    if provincia in ['Ceuta', 'Melilla']:\n",
        "        comunidad = None\n",
        "        puerto = provincia\n",
        "\n",
        "    # Si no se encontró provincia pero sí comunidad que coincide con una provincia (ej: Cantabria)\n",
        "    if not provincia and comunidad in provincias:\n",
        "        provincia = comunidad\n",
        "\n",
        "    return pd.Series([codigo_postal, puerto, provincia, comunidad])\n"
      ]
    },
    {
      "cell_type": "code",
      "execution_count": 15,
      "metadata": {
        "id": "llbjYYbUOBtx"
      },
      "outputs": [],
      "source": [
        "data[['Código Postal', 'Puerto', 'Provincia', 'Comunidad Autónoma']] = data['puerto_base'].apply(extraer_info)"
      ]
    },
    {
      "cell_type": "markdown",
      "metadata": {
        "id": "uE6-JlCTqOWP"
      },
      "source": [
        "En **Puerto base**, varios datos (código postal, puerto, provincia y comunidad autónoma) estaban combinados en una sola cadena. Esto impedía realizar análisis geográficos detallados o agrupar los registros por nivel administrativo. Separar estos elementos en columnas individuales permitió normalizar la información y facilitar operaciones como filtrado, agrupación o visualización por comunidad o provincia."
      ]
    },
    {
      "cell_type": "markdown",
      "metadata": {
        "id": "OhZXuS3DqTMo"
      },
      "source": [
        "* **Estandarización de las categorias**"
      ]
    },
    {
      "cell_type": "code",
      "execution_count": 16,
      "metadata": {
        "id": "BzrjIsZuOBty"
      },
      "outputs": [],
      "source": [
        "def clasificar_arte(censo):\n",
        "    if pd.isna(censo) or censo.strip() == '-':\n",
        "        return 'Desconocido'\n",
        "    censo = censo.upper()\n",
        "    if 'ARRASTRE' in censo or 'ARRASTREROS' in censo or 'BACALADEROS' in censo:\n",
        "        return 'Arrastre'\n",
        "    elif 'CERCO' in censo or 'CERQUEROS' in censo:\n",
        "        return 'Cerco'\n",
        "    elif 'PALANGRE' in censo:\n",
        "        return 'Palangre'\n",
        "    elif 'ARTES MENORES' in censo:\n",
        "        return 'Artes menores'\n",
        "    elif 'ARTES FIJAS' in censo or 'VOLANTA' in censo or 'RASCO' in censo:\n",
        "        return 'Artes fijas'\n",
        "    elif 'CAÑEROS' in censo:\n",
        "        return 'Cañeros'\n",
        "    else:\n",
        "        return 'Otros'\n"
      ]
    },
    {
      "cell_type": "code",
      "execution_count": 17,
      "metadata": {
        "id": "4-_u3tZCOBty"
      },
      "outputs": [],
      "source": [
        "data['Tipo de Arte'] = data['censo_modalidad'].apply(clasificar_arte)"
      ]
    },
    {
      "cell_type": "markdown",
      "metadata": {
        "id": "Do-H1OGuqeAL"
      },
      "source": [
        "\n",
        "En **Censo por modalidad**, cada valor combinaba el tipo de arte de pesca con la zona de actividad, sin un formato homogéneo. Clasificar estos censos en categorías estandarizadas como \"Arrastre\", \"Palangre\", \"Cerco\", etc., permitió agrupar modalidades distintas bajo criterios comunes, simplificando el análisis técnico y operativo de la flota.\n"
      ]
    },
    {
      "cell_type": "markdown",
      "metadata": {
        "id": "gGzcT6pox2Bp"
      },
      "source": [
        "- **Eliminacion de columnas no de interés**"
      ]
    },
    {
      "cell_type": "code",
      "execution_count": 18,
      "metadata": {
        "id": "l41zV8FnxsNK"
      },
      "outputs": [],
      "source": [
        "# Lista de columnas a eliminar\n",
        "columnas_a_eliminar = ['IMO', 'IRCS','matricula', 'estado', 'potencia', 'puerto_base', 'admin_registro', 'censo_modalidad', 'capacidad_no_aportable', 'tipo_auxiliar', 'Código Postal']\n",
        "\n",
        "# Eliminar las columnas del DataFrame\n",
        "data_1 = data.drop(columns=columnas_a_eliminar)"
      ]
    },
    {
      "cell_type": "code",
      "execution_count": 19,
      "metadata": {
        "colab": {
          "base_uri": "https://localhost:8080/",
          "height": 143
        },
        "id": "eS7mA4Vn0-lz",
        "outputId": "8b214ace-f915-4773-f7ee-8d6931025dd0"
      },
      "outputs": [
        {
          "data": {
            "text/html": [
              "<div>\n",
              "<style scoped>\n",
              "    .dataframe tbody tr th:only-of-type {\n",
              "        vertical-align: middle;\n",
              "    }\n",
              "\n",
              "    .dataframe tbody tr th {\n",
              "        vertical-align: top;\n",
              "    }\n",
              "\n",
              "    .dataframe thead th {\n",
              "        text-align: right;\n",
              "    }\n",
              "</style>\n",
              "<table border=\"1\" class=\"dataframe\">\n",
              "  <thead>\n",
              "    <tr style=\"text-align: right;\">\n",
              "      <th></th>\n",
              "      <th>cfr</th>\n",
              "      <th>nombre</th>\n",
              "      <th>fc_alta_rgfp</th>\n",
              "      <th>eslora_total</th>\n",
              "      <th>arqueo_gt</th>\n",
              "      <th>material_casco</th>\n",
              "      <th>potencia_kw</th>\n",
              "      <th>estado_rgfp</th>\n",
              "      <th>fc_estado</th>\n",
              "      <th>Puerto</th>\n",
              "      <th>Provincia</th>\n",
              "      <th>Comunidad Autónoma</th>\n",
              "      <th>Tipo de Arte</th>\n",
              "    </tr>\n",
              "  </thead>\n",
              "  <tbody>\n",
              "    <tr>\n",
              "      <th>0</th>\n",
              "      <td>ESP000000001</td>\n",
              "      <td>ARGOÑOS</td>\n",
              "      <td>1989-05-10</td>\n",
              "      <td>0.00</td>\n",
              "      <td>52.70</td>\n",
              "      <td>Madera</td>\n",
              "      <td>202.26</td>\n",
              "      <td>Baja Definitiva</td>\n",
              "      <td>1998-12-02</td>\n",
              "      <td>Vicedo</td>\n",
              "      <td>Lugo</td>\n",
              "      <td>Galicia</td>\n",
              "      <td>Cerco</td>\n",
              "    </tr>\n",
              "    <tr>\n",
              "      <th>1</th>\n",
              "      <td>ESP000000002</td>\n",
              "      <td>MARIA INSOLINA</td>\n",
              "      <td>1989-05-10</td>\n",
              "      <td>10.75</td>\n",
              "      <td>0.00</td>\n",
              "      <td>Madera</td>\n",
              "      <td>35.30</td>\n",
              "      <td>Baja Definitiva</td>\n",
              "      <td>1990-06-30</td>\n",
              "      <td>Santander</td>\n",
              "      <td>Cantabria</td>\n",
              "      <td>Cantabria</td>\n",
              "      <td>Artes menores</td>\n",
              "    </tr>\n",
              "    <tr>\n",
              "      <th>2</th>\n",
              "      <td>ESP000000003</td>\n",
              "      <td>MOWINKEL II</td>\n",
              "      <td>1989-05-10</td>\n",
              "      <td>11.25</td>\n",
              "      <td>6.76</td>\n",
              "      <td>Madera</td>\n",
              "      <td>44.13</td>\n",
              "      <td>Baja Definitiva</td>\n",
              "      <td>2005-02-16</td>\n",
              "      <td>Ceuta</td>\n",
              "      <td>Ceuta</td>\n",
              "      <td>None</td>\n",
              "      <td>Palangre</td>\n",
              "    </tr>\n",
              "  </tbody>\n",
              "</table>\n",
              "</div>"
            ],
            "text/plain": [
              "            cfr          nombre fc_alta_rgfp  eslora_total  arqueo_gt  \\\n",
              "0  ESP000000001         ARGOÑOS   1989-05-10          0.00      52.70   \n",
              "1  ESP000000002  MARIA INSOLINA   1989-05-10         10.75       0.00   \n",
              "2  ESP000000003     MOWINKEL II   1989-05-10         11.25       6.76   \n",
              "\n",
              "  material_casco  potencia_kw      estado_rgfp  fc_estado     Puerto  \\\n",
              "0         Madera       202.26  Baja Definitiva 1998-12-02     Vicedo   \n",
              "1         Madera        35.30  Baja Definitiva 1990-06-30  Santander   \n",
              "2         Madera        44.13  Baja Definitiva 2005-02-16      Ceuta   \n",
              "\n",
              "   Provincia Comunidad Autónoma   Tipo de Arte  \n",
              "0       Lugo            Galicia          Cerco  \n",
              "1  Cantabria          Cantabria  Artes menores  \n",
              "2      Ceuta               None       Palangre  "
            ]
          },
          "execution_count": 19,
          "metadata": {},
          "output_type": "execute_result"
        }
      ],
      "source": [
        "data_1.head(3)"
      ]
    },
    {
      "cell_type": "markdown",
      "metadata": {
        "id": "dL4Q-Kclvvcu"
      },
      "source": [
        "## **3.4 Identificación y gestión de los valores extremos**\n"
      ]
    },
    {
      "cell_type": "markdown",
      "metadata": {
        "id": "gLMM4t4R6_O6"
      },
      "source": [
        "* **Imputación de los valores 0 e ilógicos**"
      ]
    },
    {
      "cell_type": "code",
      "execution_count": 20,
      "metadata": {
        "colab": {
          "base_uri": "https://localhost:8080/"
        },
        "id": "-IDUBdzD7KRB",
        "outputId": "c362fea0-953d-41f2-d524-e39dbce44dfc"
      },
      "outputs": [
        {
          "name": "stdout",
          "output_type": "stream",
          "text": [
            "Valores cero originales por columna:\n",
            "eslora_total    1986\n",
            "arqueo_gt       2474\n",
            "potencia_kw     2718\n",
            "dtype: int64\n",
            "Valores NaN originales por columna:\n",
            "eslora_total    0\n",
            "arqueo_gt       0\n",
            "potencia_kw     0\n",
            "dtype: int64\n",
            "Valores NaN tras imputación:\n",
            "eslora_total    0\n",
            "arqueo_gt       0\n",
            "potencia_kw     0\n",
            "dtype: int64\n",
            "Valores cero tras imputación:\n",
            "eslora_total    0\n",
            "arqueo_gt       0\n",
            "potencia_kw     0\n",
            "dtype: int64\n",
            "\n",
            "Columna: eslora_total\n",
            " - Media original (excluyendo ceros y NaNs): 11.481\n",
            " - Media imputada: 11.501\n",
            " - Mediana original (excluyendo ceros y NaNs): 7.500\n",
            " - Mediana imputada: 7.600\n",
            " - Desviación estándar original (excluyendo ceros y NaNs): 9.986\n",
            " - Desviación estándar imputada: 9.855\n",
            "\n",
            "Columna: arqueo_gt\n",
            " - Media original (excluyendo ceros y NaNs): 44.236\n",
            " - Media imputada: 45.457\n",
            " - Mediana original (excluyendo ceros y NaNs): 2.100\n",
            " - Mediana imputada: 2.300\n",
            " - Desviación estándar original (excluyendo ceros y NaNs): 180.621\n",
            " - Desviación estándar imputada: 179.324\n",
            "\n",
            "Columna: potencia_kw\n",
            " - Media original (excluyendo ceros y NaNs): 118.664\n",
            " - Media imputada: 107.845\n",
            " - Mediana original (excluyendo ceros y NaNs): 29.410\n",
            " - Mediana imputada: 22.060\n",
            " - Desviación estándar original (excluyendo ceros y NaNs): 274.204\n",
            " - Desviación estándar imputada: 262.286\n"
          ]
        }
      ],
      "source": [
        "# Copiamos el DataFrame para no modificar el original\n",
        "data_imputed = data_1.copy()\n",
        "\n",
        "# Columnas numéricas a tratar\n",
        "numeric_cols = ['eslora_total', 'arqueo_gt', 'potencia_kw']\n",
        "\n",
        "# Guardamos copia de los datos originales para comparar\n",
        "original_values = data_1[numeric_cols].copy()\n",
        "\n",
        "# Paso 1: Reemplazar los 0.00 por NaN\n",
        "for col in numeric_cols:\n",
        "    data_imputed[col] = data_imputed[col].replace(0.00, np.nan)\n",
        "\n",
        "# Contamos cuántos ceros y NaNs había antes\n",
        "print(\"Valores cero originales por columna:\")\n",
        "print((original_values == 0.00).sum())\n",
        "print(\"Valores NaN originales por columna:\")\n",
        "print(original_values.isna().sum())\n",
        "\n",
        "# Paso 2: Aplicar KNN Imputer (k=15)\n",
        "imputer = KNNImputer(n_neighbors=15)\n",
        "\n",
        "# Solo imputamos las columnas numéricas\n",
        "data_imputed[numeric_cols] = imputer.fit_transform(data_imputed[numeric_cols])\n",
        "\n",
        "# Verificamos que ya no hay ceros ni NaNs en esas columnas\n",
        "print(\"Valores NaN tras imputación:\")\n",
        "print(data_imputed[numeric_cols].isna().sum())\n",
        "print(\"Valores cero tras imputación:\")\n",
        "print((data_imputed[numeric_cols] == 0.00).sum())\n",
        "\n",
        "# Comparación estadística antes y después\n",
        "for col in numeric_cols:\n",
        "    print(f\"\\nColumna: {col}\")\n",
        "    print(f\" - Media original (excluyendo ceros y NaNs): {original_values[col][original_values[col] != 0].dropna().mean():.3f}\")\n",
        "    print(f\" - Media imputada: {data_imputed[col].mean():.3f}\")\n",
        "    print(f\" - Mediana original (excluyendo ceros y NaNs): {original_values[col][original_values[col] != 0].dropna().median():.3f}\")\n",
        "    print(f\" - Mediana imputada: {data_imputed[col].median():.3f}\")\n",
        "    print(f\" - Desviación estándar original (excluyendo ceros y NaNs): {original_values[col][original_values[col] != 0].dropna().std():.3f}\")\n",
        "    print(f\" - Desviación estándar imputada: {data_imputed[col].std():.3f}\")\n"
      ]
    },
    {
      "cell_type": "markdown",
      "metadata": {
        "id": "VZ5xzUZT-r3L"
      },
      "source": [
        "Se ha realizado una imputación en las variables numéricas que contienen valores cero, reemplazándolos por valores nulos, ya que un buque no puede tener eslora 0 m, arqueo 0 toneladas o potencia 0 kW; estos ceros probablemente se deben a la antigüedad de los datos y a limitaciones en la recolección original. Para la imputación utilizamos el **método de los k vecinos más cercanos con k=15**, lo que nos brinda mayor robustez frente a valores atípicos.\n",
        "\n",
        "Optamos por k=15 porque con un número bajo de vecinos, como 3, la imputación puede distorsionarse si alguno de esos vecinos es un outlier. Al aumentar a 15 vecinos, el impacto de valores atípicos se diluye al promediar más observaciones, captando mejor la tendencia general y suavizando la variabilidad extrema. Además, dado que contamos con más de 27,000 registros, este valor de k es razonable y evita sesgos o sobreajustes.\n",
        "\n",
        "Tras la imputación, los valores cero y NaN desaparecieron por completo en las columnas tratadas, y las estadísticas descriptivas muestran que las medias, medianas y desviaciones estándar **se mantienen muy similares antes y después**, salvo en potencia_kw, donde la imputación suavizó la distribución. Esto confirma que el método preserva los patrones multidimensionales y la estructura latente del dataset, logrando imputaciones consistentes y realistas dentro del contexto general.\n"
      ]
    },
    {
      "cell_type": "markdown",
      "metadata": {
        "id": "wKzp-TgtBGzN"
      },
      "source": [
        "* **Identificacion de valores atípicos (outliers)**"
      ]
    },
    {
      "cell_type": "code",
      "execution_count": 21,
      "metadata": {
        "colab": {
          "base_uri": "https://localhost:8080/",
          "height": 507
        },
        "id": "5lgJ0zt03RFT",
        "outputId": "c548090e-3224-4adc-a8c7-506504eb4a4f"
      },
      "outputs": [
        {
          "data": {
            "image/png": "[encoded data removed]",
            "text/plain": [
              "<Figure size 1500x500 with 3 Axes>"
            ]
          },
          "metadata": {},
          "output_type": "display_data"
        }
      ],
      "source": [
        "# Selección de columnas numéricas\n",
        "numeric_cols = ['eslora_total', 'arqueo_gt', 'potencia_kw']\n",
        "\n",
        "# Crear una figura con subplots\n",
        "fig, axes = plt.subplots(nrows=1, ncols=len(numeric_cols), figsize=(15, 5))\n",
        "\n",
        "# Crear un boxplot para cada variable con líneas del IQR\n",
        "for i, col in enumerate(numeric_cols):\n",
        "    # Calcular los cuartiles y el IQR\n",
        "    Q1 = data_imputed[col].quantile(0.25)\n",
        "    Q3 = data_imputed[col].quantile(0.75)\n",
        "    IQR = Q3 - Q1\n",
        "    lower_bound = Q1 - 1.5 * IQR\n",
        "    upper_bound = Q3 + 1.5 * IQR\n",
        "\n",
        "    # Crear boxplot\n",
        "    sns.boxplot(y=data_imputed[col], ax=axes[i])\n",
        "    axes[i].axhline(lower_bound, color='red', linestyle='--', label='Límite inferior')\n",
        "    axes[i].axhline(upper_bound, color='green', linestyle='--', label='Límite superior')\n",
        "    axes[i].set_title(f'Boxplot de {col}')\n",
        "    axes[i].set_xlabel('')\n",
        "    axes[i].set_ylabel('')\n",
        "\n",
        "    # Añadir leyenda solo al primer gráfico\n",
        "    if i == 0:\n",
        "        axes[i].legend()\n",
        "\n",
        "plt.tight_layout()\n",
        "plt.show()\n"
      ]
    },
    {
      "cell_type": "markdown",
      "metadata": {
        "id": "Tbj3b-HyBCbX"
      },
      "source": [
        "\n",
        "\n",
        "## **EXPLICACION DE POR QUE SALEN TANTOS OULIERS, Y POR QUE NO SON UN ERROR**\n",
        "\n"
      ]
    },
    {
      "cell_type": "markdown",
      "metadata": {
        "id": "iHKJEpuZCaXP"
      },
      "source": [
        "* **Revisión de las distribuciones en columnas numéricas**"
      ]
    },
    {
      "cell_type": "code",
      "execution_count": 22,
      "metadata": {
        "colab": {
          "base_uri": "https://localhost:8080/",
          "height": 507
        },
        "id": "tm_IkShc4Bj8",
        "outputId": "0d39d619-61ff-40b3-817a-a747cfd2385e"
      },
      "outputs": [
        {
          "data": {
            "image/png": "[encoded data removed]",
            "text/plain": [
              "<Figure size 1500x500 with 3 Axes>"
            ]
          },
          "metadata": {},
          "output_type": "display_data"
        }
      ],
      "source": [
        "# Selección de columnas numéricas\n",
        "numeric_cols = ['eslora_total', 'arqueo_gt', 'potencia_kw']\n",
        "\n",
        "# Crear histogramas para cada variable\n",
        "fig, axes = plt.subplots(nrows=1, ncols=len(numeric_cols), figsize=(15, 5))\n",
        "\n",
        "for i, col in enumerate(numeric_cols):\n",
        "    axes[i].hist(data_imputed[col], bins=30, color='skyblue', edgecolor='black')\n",
        "    axes[i].set_title(f'Histograma de {col}')\n",
        "    axes[i].set_xlabel(col)\n",
        "    axes[i].set_ylabel('Frecuencia')\n",
        "\n",
        "plt.tight_layout()\n",
        "plt.show()\n"
      ]
    },
    {
      "cell_type": "markdown",
      "metadata": {
        "id": "OpCQph9dCg00"
      },
      "source": [
        "## **3.4. Correlaciones**\n"
      ]
    },
    {
      "cell_type": "code",
      "execution_count": 23,
      "metadata": {
        "colab": {
          "base_uri": "https://localhost:8080/",
          "height": 537
        },
        "id": "uINK5pXSCtc-",
        "outputId": "923cf348-07aa-4f8b-96e3-838ddcadc409"
      },
      "outputs": [
        {
          "name": "stdout",
          "output_type": "stream",
          "text": [
            "              eslora_total  arqueo_gt  potencia_kw\n",
            "eslora_total      1.000000   0.799462     0.870160\n",
            "arqueo_gt         0.799462   1.000000     0.940737\n",
            "potencia_kw       0.870160   0.940737     1.000000\n"
          ]
        },
        {
          "data": {
            "image/png": "[encoded data removed]",
            "text/plain": [
              "<Figure size 600x500 with 2 Axes>"
            ]
          },
          "metadata": {},
          "output_type": "display_data"
        }
      ],
      "source": [
        "# Seleccionamos las columnas numéricas para la correlación\n",
        "numeric_cols = ['eslora_total', 'arqueo_gt', 'potencia_kw']\n",
        "\n",
        "# Calculamos la matriz de correlación (Pearson por defecto)\n",
        "corr_matrix = data_imputed[numeric_cols].corr()\n",
        "\n",
        "# Mostramos la matriz\n",
        "print(corr_matrix)\n",
        "\n",
        "# Visualizamos con un heatmap\n",
        "plt.figure(figsize=(6,5))\n",
        "sns.heatmap(corr_matrix, annot=True, cmap='coolwarm', center=0)\n",
        "plt.title('Matriz de correlación entre variables numéricas')\n",
        "plt.show()"
      ]
    },
    {
      "cell_type": "markdown",
      "metadata": {
        "id": "02aENzD4C4Zg"
      },
      "source": [
        "La matriz de correlación muestra relaciones fuertes y positivas entre las tres variables numéricas analizadas:\n",
        "\n",
        "* **Eslora total y arqueo_gt** tienen una correlación de aproximadamente **0.80**, lo que indica que a medida que aumenta la eslora (longitud) del buque, también tiende a aumentar su arqueo (tonelaje). Esto es esperable porque barcos más largos suelen tener mayor capacidad o peso.\n",
        "\n",
        "* **Eslora total y potencia_kw** presentan una correlación aún más alta, alrededor de **0.87**, lo que sugiere que buques más largos también suelen contar con motores de mayor potencia, reflejando la necesidad de impulsar embarcaciones de mayor tamaño.\n",
        "\n",
        "* La relación entre **arqueo_gt y potencia_kw** es la más fuerte, con un valor de **0.94**, lo que indica que el peso o volumen del buque está muy ligado a la potencia instalada. Esto es coherente, pues un mayor arqueo implica barcos más pesados que requieren motores más potentes para su operación eficiente.\n",
        "\n",
        "En conjunto, estas correlaciones confirman que las variables están estrechamente relacionadas y reflejan dimensiones físicas y de rendimiento del buque que crecen conjuntamente. Esta consistencia también respalda la calidad de la imputación, ya que mantiene las relaciones naturales esperadas entre estas características.\n"
      ]
    },
    {
      "cell_type": "code",
      "execution_count": 24,
      "metadata": {
        "id": "FhPWZhEHDMS9"
      },
      "outputs": [],
      "source": [
        "# Guardar el dataframe resultante\n",
        "data_imputed.to_csv(\"./data/data_clean_v2.csv\", index= False)"
      ]
    },
    {
      "cell_type": "markdown",
      "metadata": {
        "id": "npAUst_kOBty"
      },
      "source": [
        "## 4. Análisis de los datos.\n",
        "### 4.1. Aplica un modelo supervisado y uno no supervisado a los datos y comenta los resultados obtenidos.\n",
        "### 4.2. Aplica una prueba por contraste de hipótesis. Ten en cuenta que algunas de estas pruebas requieren verificar previamente la normalidad y homocedasticidad de los datos."
      ]
    },
    {
      "cell_type": "markdown",
      "metadata": {
        "id": "GVS7etqFOBty"
      },
      "source": [
        "## 5. Representación de los resultados a partir de tablas y gráficas. Este apartado se puede responder a lo largo de la práctica, sin necesidad de concentrar todas las representaciones en este apartado. Se debe representar tanto el contenido del dataset para observar las proporciones y distribuciones de las diferentes variables una vez aplicada la etapa de limpieza, como los resultados obtenidos tras la etapa de análisis."
      ]
    },
    {
      "cell_type": "markdown",
      "metadata": {
        "id": "XiNgB40gOBty"
      },
      "source": [
        "## 6. Resolución del problema. A partir de los resultados obtenidos, ¿cuáles son las conclusiones? ¿Los resultados permiten responder al problema?\n"
      ]
    },
    {
      "cell_type": "markdown",
      "metadata": {
        "id": "qa_0sUiUOBty"
      },
      "source": [
        "## 7. Código. Hay que adjuntar el código, preferiblemente en R, con el que se ha realizado la limpieza, análisis y representación de los datos. Si lo preferís, también podéis trabajar en Python.\n"
      ]
    },
    {
      "cell_type": "markdown",
      "metadata": {
        "id": "YSNkgGXmOBty"
      },
      "source": [
        "## 8. Vídeo. Realizar un breve vídeo explicativo de la práctica (máximo 10 minutos), donde ambos integrantes del equipo expliquen con sus propias palabras el desarrollo de la práctica, basándose en las preguntas del enunciado para justificar y explicar el código desarrollado. Este vídeo se deberá entregar a través de un enlace al Google Drive de la UOC (https://drive.google.com/…), junto con enlace al repositorio Git entregado."
      ]
    }
  ],
  "metadata": {
    "colab": {
      "provenance": []
    },
    "kernelspec": {
      "display_name": "Python 3",
      "language": "python",
      "name": "python3"
    },
    "language_info": {
      "codemirror_mode": {
        "name": "ipython",
        "version": 3
      },
      "file_extension": ".py",
      "mimetype": "text/x-python",
      "name": "python",
      "nbconvert_exporter": "python",
      "pygments_lexer": "ipython3",
      "version": "3.13.2"
    }
  },
  "nbformat": 4,
  "nbformat_minor": 0
}
