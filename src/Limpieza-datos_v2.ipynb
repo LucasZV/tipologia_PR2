{
  "cells": [
    {
      "cell_type": "markdown",
      "metadata": {
        "id": "U93rm4d5OBtr"
      },
      "source": [
        "# **Práctica 2 (25% nota final): Tipologia y ciclo de vida de los datos**\n",
        "\n",
        "En esta práctica se elabora un caso práctico orientado a aprender a identificar los datos relevantes para un proyecto analítico y usar las herramientas de integración, limpieza, validación y análisis de los mismos. Para realizar esta práctica se requiere trabajar en grupos de dos personas.\n",
        "La entrega de esta práctica se ha de realizar según lo especificado en el apartado Formato y fecha de entrega. Se debe entregar una memoria PDF con las respuestas a los diferentes apartados, un repositorio con el código fuente y un vídeo explicativo, en el que ambos integrantes del grupo comenten los aspectos más relevantes del proyecto."
      ]
    },
    {
      "cell_type": "markdown",
      "metadata": {
        "id": "Pvg3RPK9OBtu"
      },
      "source": [
        "## **Competencias**\n",
        "En esta práctica se desarrollan las siguientes competencias del Máster de Data Science:\n",
        "\n",
        "● Capacidad de analizar un problema en el nivel de abstracción adecuado a cada situación y aplicar las habilidades y conocimientos adquiridos para abordarlo y resolverlo.  \n",
        "● Capacidad para aplicar las técnicas específicas de tratamiento de datos (integración, transformación, limpieza y validación) para su posterior análisis.  \n",
        "\n",
        "## **Objetivos**\n",
        "Los objetivos concretos de esta práctica son:\n",
        "\n",
        "● Aprender a aplicar los conocimientos adquiridos y su capacidad de resolución de problemas en entornos nuevos o poco conocidos dentro de contextos más amplios o multidisciplinares.  \n",
        "● Saber identificar los datos relevantes y los tratamientos necesarios (integración, limpieza y validación) para llevar a cabo un proyecto analítico.  \n",
        "● Aprender a analizar los datos adecuadamente para abordar la información contenida en los datos.  \n",
        "● Identificar la mejor representación de los resultados para aportar conclusiones sobre el problema planteado en el proceso analítico.    \n",
        "● Actuar con los principios éticos y legales relacionados con la manipulación de datos en función del ámbito de aplicación.  \n",
        "● Desarrollar las habilidades de aprendizaje que les permitan continuar estudiando de un modo que tendrá que ser en gran medida autodirigido o autónomo.  \n",
        "● Desarrollar la capacidad de búsqueda, gestión y uso de información y recursos en el ámbito de la ciencia de datos.  \n",
        "\n",
        "## **Descripción de la Práctica a realizar**\n",
        "El objetivo de esta actividad será el tratamiento del dataset creado en la Práctica 1.\n",
        "Importante: el dataset debe contar con una amplia variedad de datos numéricos y categóricos, entre los que se encuentre al menos una variable objetivo, así como contar con datos faltantes y/o erróneos, para poder realizar un análisis más rico y poder responder a las diferentes preguntas planteadas en el enunciado de la práctica. De no ser así, se deberá buscar la forma de integrar más datos que cumplan con estos requisitos en la etapa de integración (apartado 2).\n",
        "\n",
        "Siguiendo las principales etapas de un proyecto analítico, las diferentes tareas a realizar (y justificar) son las siguientes:"
      ]
    },
    {
      "cell_type": "code",
      "execution_count": null,
      "metadata": {
        "colab": {
          "base_uri": "https://localhost:8080/"
        },
        "id": "FQRIqUGfOR0I",
        "outputId": "c29187d8-157d-435c-d994-f2bad03caaa8"
      },
      "outputs": [
        {
          "name": "stdout",
          "output_type": "stream",
          "text": [
            "Drive already mounted at /content/drive; to attempt to forcibly remount, call drive.mount(\"/content/drive\", force_remount=True).\n"
          ]
        }
      ],
      "source": [
        "#from google.colab import drive\n",
        "#drive.mount('/content/drive')"
      ]
    },
    {
      "cell_type": "markdown",
      "metadata": {
        "id": "KNx3NZGkOBtu"
      },
      "source": [
        "# **Registro de la Flota Pesquera Española: Características y Distribución**\n",
        "## **1. Contexto**\n",
        "Este conjunto de datos recoge información técnica y administrativa de los buques registrados en el Registro de la Flota Pesquera Española, a partir de identificadores únicos (CFR) extraídos del registro europeo. Cada buque está identificado de forma unívoca, lo que garantiza la trazabilidad y evita duplicidades.  \n",
        "\n",
        "Los datos cubren un período comprendido entre el 31 de diciembre de 1987 y el 25 de marzo de 2025, lo que permite realizar un análisis detallado y evolutivo de la flota pesquera española durante casi cuatro décadas. Esta información es fundamental para comprender la composición, características técnicas, distribución geográfica y evolución operativa de la flota.  \n",
        "\n",
        "Es importante resaltar que con el fin de evitar redundancias con respecto a la práctica anterior, en la que ya se aplicó una preselección de los datos, se ha integrado el contenido del apartado 2 del enunciado de la práctica en este primer punto. En dicha práctica se filtraron los registros para incluir únicamente los buques españoles con código CFR válido, lo que constituye la base del conjunto de datos actual.  \n",
        "\n",
        "Para el análisis se ha realizado una selección de las variables más relevantes, en función de los objetivos planteados: analizar la estructura de la flota, identificar patrones de distribución del número de buques entre modalidades de pesca, y detectar posibles tendencias históricas en la baja o modernización de buques.  \n",
        "\n",
        "Las variables incluidas en el conjunto de datos son las siguientes:\n",
        "- CFR: Código de Referencia Comunitario (identificador único del buque).\n",
        "- Nombre: Nombre registrado del buque.\n",
        "- IMO: Número de identificación internacional del buque (si aplica).\n",
        "- IRCS: Código de llamada internacional (señal de radio).\n",
        "- Matrícula: Código de identificación nacional del buque.\n",
        "- Alta en RGFP: Fecha de alta en el Registro General de la Flota Pesquera.\n",
        "- Estado: Situación administrativa (activo, baja definitiva, etc.).\n",
        "- Eslora total: Longitud total en metros.\n",
        "- Arqueo GT: Arqueo bruto (volumen interior).\n",
        "- Potencia: Potencia del motor en kilovatios (y caballos de vapor entre paréntesis).\n",
        "- Material del casco: Tipo de material constructivo (ej. madera, acero).\n",
        "- Puerto base: Localidad y provincia de registro.\n",
        "- Administración responsable del Registro: Organismo responsable del registro.\n",
        "- Censo por modalidad: Tipo de arte o modalidad de pesca asignada (ej. cerco, palangre).\n",
        "- Capacidad del buque no aportable por: Campo que indica si hay datos no disponibles.\n",
        "- Tipo de auxiliar: Especifica si el buque es auxiliar y su tipo.\n",
        "\n",
        "\n",
        "La selección de este subconjunto está justificada por su relevancia directa para los objetivos del análisis y por la calidad y disponibilidad de los datos. Estas variables permiten realizar distintos tipos de análisis: técnicos, geográficos, históricos o funcionales.  \n",
        "\n",
        "\n",
        "\n"
      ]
    },
    {
      "cell_type": "code",
      "execution_count": 46,
      "metadata": {
        "id": "bRU_CEfnOcE_"
      },
      "outputs": [],
      "source": [
        "# Librerias\n",
        "import pandas as pd\n",
        "import os\n",
        "import numpy as np\n",
        "import re\n",
        "import seaborn as sns\n",
        "import matplotlib.pyplot as plt\n",
        "from sklearn.impute import KNNImputer\n",
        "from datetime import datetime"
      ]
    },
    {
      "cell_type": "code",
      "execution_count": 47,
      "metadata": {
        "id": "yo03o2wUOBtu"
      },
      "outputs": [],
      "source": [
        "# Definir base_dir como ruta absoluta usando raw string\n",
        "base_dir = r\"C:\\Users\\jubeda2\\Documents\\GitHub\\tipologia_PR2\"\n",
        "file_path = os.path.join(base_dir, \"data\", \"datos_buques_ESP.csv\")\n",
        "\n",
        "# Leer el CSV\n",
        "data = pd.read_csv(file_path)\n"
      ]
    },
    {
      "cell_type": "code",
      "execution_count": 48,
      "metadata": {
        "colab": {
          "base_uri": "https://localhost:8080/",
          "height": 414
        },
        "id": "S91joe4XOBtv",
        "outputId": "7562dfd8-7dd8-40d2-d34e-51231f9b9007"
      },
      "outputs": [
        {
          "data": {
            "text/html": [
              "<div>\n",
              "<style scoped>\n",
              "    .dataframe tbody tr th:only-of-type {\n",
              "        vertical-align: middle;\n",
              "    }\n",
              "\n",
              "    .dataframe tbody tr th {\n",
              "        vertical-align: top;\n",
              "    }\n",
              "\n",
              "    .dataframe thead th {\n",
              "        text-align: right;\n",
              "    }\n",
              "</style>\n",
              "<table border=\"1\" class=\"dataframe\">\n",
              "  <thead>\n",
              "    <tr style=\"text-align: right;\">\n",
              "      <th></th>\n",
              "      <th>CFR</th>\n",
              "      <th>Nombre</th>\n",
              "      <th>IMO</th>\n",
              "      <th>IRCS</th>\n",
              "      <th>Matrícula</th>\n",
              "      <th>Alta en RGFP</th>\n",
              "      <th>Estado</th>\n",
              "      <th>Eslora total</th>\n",
              "      <th>Arqueo GT</th>\n",
              "      <th>Potencia</th>\n",
              "      <th>Material del casco</th>\n",
              "      <th>Puerto base</th>\n",
              "      <th>Administración responsable del Registro</th>\n",
              "      <th>Censo por modalidad</th>\n",
              "      <th>Capacidad del buque no aportable por:</th>\n",
              "      <th>Tipo de auxiliar</th>\n",
              "    </tr>\n",
              "  </thead>\n",
              "  <tbody>\n",
              "    <tr>\n",
              "      <th>0</th>\n",
              "      <td>ESP000000001</td>\n",
              "      <td>ARGOÑOS</td>\n",
              "      <td>-</td>\n",
              "      <td>EA7682</td>\n",
              "      <td>3ST-4-2467</td>\n",
              "      <td>10/05/1989</td>\n",
              "      <td>Baja Definitiva (desde el 02/12/1998)</td>\n",
              "      <td>0,00 m</td>\n",
              "      <td>52,70</td>\n",
              "      <td>202,26 kW (275,0 CV)</td>\n",
              "      <td>Madera</td>\n",
              "      <td>21250 - Vicedo, LUGO (GALICIA)</td>\n",
              "      <td>Secretaría General de Pesca</td>\n",
              "      <td>CERCO EN CANTABRICO NW</td>\n",
              "      <td>NaN</td>\n",
              "      <td>NaN</td>\n",
              "    </tr>\n",
              "    <tr>\n",
              "      <th>1</th>\n",
              "      <td>ESP000000002</td>\n",
              "      <td>MARIA INSOLINA</td>\n",
              "      <td>-</td>\n",
              "      <td>EB6932</td>\n",
              "      <td>3ST-4-2181</td>\n",
              "      <td>10/05/1989</td>\n",
              "      <td>Baja Definitiva (desde el 30/06/1990)</td>\n",
              "      <td>10,75 m</td>\n",
              "      <td>0,00</td>\n",
              "      <td>35,30 kW (48,0 CV)</td>\n",
              "      <td>Madera</td>\n",
              "      <td>13400 - Santander, CANTABRIA</td>\n",
              "      <td>Secretaría General de Pesca</td>\n",
              "      <td>ARTES MENORES EN CANTABRICO NW</td>\n",
              "      <td>NaN</td>\n",
              "      <td>NaN</td>\n",
              "    </tr>\n",
              "    <tr>\n",
              "      <th>2</th>\n",
              "      <td>ESP000000003</td>\n",
              "      <td>MOWINKEL II</td>\n",
              "      <td>-</td>\n",
              "      <td>-</td>\n",
              "      <td>3ST-4-2500</td>\n",
              "      <td>10/05/1989</td>\n",
              "      <td>Baja Definitiva (desde el 16/02/2005)</td>\n",
              "      <td>11,25 m</td>\n",
              "      <td>6,76</td>\n",
              "      <td>44,13 kW (60,0 CV)</td>\n",
              "      <td>Madera</td>\n",
              "      <td>43100 - Ceuta</td>\n",
              "      <td>Secretaría General de Pesca</td>\n",
              "      <td>PALANGRE DE FONDO EN CANTABRICO NW</td>\n",
              "      <td>NaN</td>\n",
              "      <td>NaN</td>\n",
              "    </tr>\n",
              "    <tr>\n",
              "      <th>3</th>\n",
              "      <td>ESP000000004</td>\n",
              "      <td>JULIA NUMERO TRES</td>\n",
              "      <td>-</td>\n",
              "      <td>-</td>\n",
              "      <td>3ST-4-2281</td>\n",
              "      <td>10/05/1989</td>\n",
              "      <td>Baja Definitiva (desde el 26/08/1994)</td>\n",
              "      <td>0,00 m</td>\n",
              "      <td>0,00</td>\n",
              "      <td>44,13 kW (60,0 CV)</td>\n",
              "      <td>Madera</td>\n",
              "      <td>13400 - Santander, CANTABRIA</td>\n",
              "      <td>Secretaría General de Pesca</td>\n",
              "      <td>VOLANTA EN CANTABRICO NW</td>\n",
              "      <td>NaN</td>\n",
              "      <td>NaN</td>\n",
              "    </tr>\n",
              "    <tr>\n",
              "      <th>4</th>\n",
              "      <td>ESP000000005</td>\n",
              "      <td>SIEMPRE HERMANOS EZQUIAGA</td>\n",
              "      <td>-</td>\n",
              "      <td>EA6583</td>\n",
              "      <td>3ST-4-2540</td>\n",
              "      <td>10/05/1989</td>\n",
              "      <td>Baja Definitiva (desde el 15/11/2006)</td>\n",
              "      <td>19,60 m</td>\n",
              "      <td>40,00</td>\n",
              "      <td>169,16 kW (230,0 CV)</td>\n",
              "      <td>Madera</td>\n",
              "      <td>12200 - Bermeo, BIZKAIA (PAÍS VASCO)</td>\n",
              "      <td>Secretaría General de Pesca</td>\n",
              "      <td>ARTES MENORES EN CANTABRICO NW</td>\n",
              "      <td>NaN</td>\n",
              "      <td>NaN</td>\n",
              "    </tr>\n",
              "  </tbody>\n",
              "</table>\n",
              "</div>"
            ],
            "text/plain": [
              "            CFR                     Nombre IMO    IRCS   Matrícula  \\\n",
              "0  ESP000000001                    ARGOÑOS   -  EA7682  3ST-4-2467   \n",
              "1  ESP000000002             MARIA INSOLINA   -  EB6932  3ST-4-2181   \n",
              "2  ESP000000003                MOWINKEL II   -       -  3ST-4-2500   \n",
              "3  ESP000000004          JULIA NUMERO TRES   -       -  3ST-4-2281   \n",
              "4  ESP000000005  SIEMPRE HERMANOS EZQUIAGA   -  EA6583  3ST-4-2540   \n",
              "\n",
              "  Alta en RGFP                                 Estado Eslora total Arqueo GT  \\\n",
              "0   10/05/1989  Baja Definitiva (desde el 02/12/1998)       0,00 m     52,70   \n",
              "1   10/05/1989  Baja Definitiva (desde el 30/06/1990)      10,75 m      0,00   \n",
              "2   10/05/1989  Baja Definitiva (desde el 16/02/2005)      11,25 m      6,76   \n",
              "3   10/05/1989  Baja Definitiva (desde el 26/08/1994)       0,00 m      0,00   \n",
              "4   10/05/1989  Baja Definitiva (desde el 15/11/2006)      19,60 m     40,00   \n",
              "\n",
              "               Potencia Material del casco  \\\n",
              "0  202,26 kW (275,0 CV)             Madera   \n",
              "1    35,30 kW (48,0 CV)             Madera   \n",
              "2    44,13 kW (60,0 CV)             Madera   \n",
              "3    44,13 kW (60,0 CV)             Madera   \n",
              "4  169,16 kW (230,0 CV)             Madera   \n",
              "\n",
              "                            Puerto base  \\\n",
              "0        21250 - Vicedo, LUGO (GALICIA)   \n",
              "1          13400 - Santander, CANTABRIA   \n",
              "2                         43100 - Ceuta   \n",
              "3          13400 - Santander, CANTABRIA   \n",
              "4  12200 - Bermeo, BIZKAIA (PAÍS VASCO)   \n",
              "\n",
              "  Administración responsable del Registro                 Censo por modalidad  \\\n",
              "0             Secretaría General de Pesca              CERCO EN CANTABRICO NW   \n",
              "1             Secretaría General de Pesca      ARTES MENORES EN CANTABRICO NW   \n",
              "2             Secretaría General de Pesca  PALANGRE DE FONDO EN CANTABRICO NW   \n",
              "3             Secretaría General de Pesca            VOLANTA EN CANTABRICO NW   \n",
              "4             Secretaría General de Pesca      ARTES MENORES EN CANTABRICO NW   \n",
              "\n",
              "  Capacidad del buque no aportable por: Tipo de auxiliar  \n",
              "0                                   NaN              NaN  \n",
              "1                                   NaN              NaN  \n",
              "2                                   NaN              NaN  \n",
              "3                                   NaN              NaN  \n",
              "4                                   NaN              NaN  "
            ]
          },
          "execution_count": 48,
          "metadata": {},
          "output_type": "execute_result"
        }
      ],
      "source": [
        "data.head(5)"
      ]
    },
    {
      "cell_type": "markdown",
      "metadata": {},
      "source": [
        "Este análisis está diseñado para responder a preguntas como:\n",
        "\n",
        "- ¿Cómo ha evolucionado la flota pesquera española en términos de número de buques desde los años 80 hasta hoy?\n",
        "- ¿Cómo ha evolucionado la flota pesquera española en términos de eslora, arqueo y potencia desde los años 80 hasta hoy?\n",
        "> ¿Existen patrones asociados a la baja de buques según sus características (tamaño, antigüedad, material, etc.)?\n",
        "> ¿Existen patrones asociados a la pertenencia de un censo por modalidad según sus características (tamaño, antigüedad, material, etc.)?\n",
        "\n",
        "El estudio es de gran utilidad tanto para investigadores como para responsables de políticas públicas, ya que permite identificar tendencias, evaluar la sostenibilidad del esfuerzo pesquero (expresado en tamaño, potencia y capacidad de los buques) y orientar decisiones en materia de ordenación y modernización del sector."
      ]
    },
    {
      "cell_type": "markdown",
      "metadata": {
        "id": "zvKF7pXnVUcl"
      },
      "source": [
        "## **2. Preparación y limpieza inicial de los datos**\n",
        "### **2.1. Revisión de duplicados**\n",
        "No se han encontrado valores duplicados en el dataset. Para verificarlo, se ha comprobado la aparición de los códigos CFR (Community Fishing Fleet Register), identificadores únicos de cada buque en el ámbito europeo. Dado que cada CFR es único, pueden utilizarse como clave primaria en nuestra tabla.\n"
      ]
    },
    {
      "cell_type": "code",
      "execution_count": 49,
      "metadata": {
        "colab": {
          "base_uri": "https://localhost:8080/"
        },
        "id": "zS3ZaIGI26UG",
        "outputId": "5a1f5554-c5d8-42f3-8486-046a5ca3483a"
      },
      "outputs": [
        {
          "data": {
            "text/plain": [
              "np.int64(0)"
            ]
          },
          "execution_count": 49,
          "metadata": {},
          "output_type": "execute_result"
        }
      ],
      "source": [
        "data['CFR'].duplicated().sum()"
      ]
    },
    {
      "cell_type": "markdown",
      "metadata": {
        "id": "qomyNALt3JZO"
      },
      "source": [
        "### **2.2. Identificación de caracteres especiales, valores vacíos y/o nulos**\n",
        "Las columnas con valores problemáticos son: ‘Tipo de auxiliar’, ‘Capacidad del buque no aportable por:’, ‘IMO’, ‘IRCS’, ‘Censo por modalidad’, ‘Material del casco’, ‘Potencia’, ‘Arqueo GT’ y ‘Eslora total’.  \n",
        "\n",
        "- La columna ‘Tipo de auxiliar’ está completamente vacía (valores nulos) o contiene caracteres especiales (como guiones), por lo que puede eliminarse directamente.  \n",
        "\n",
        "- ‘Capacidad del buque no aportable por:’ tiene más del 99% de valores nulos, por lo que también puede eliminarse.\n",
        "En ‘IMO’ y ‘IRCS’ son dos identificadores del buque que contienen casi en su totalidad (> 80 %) carácteres especiales (guiones principalmente) sin aportar información, por lo que podrían eliminarse. Nos quedaremos con el CFR como identificador único del buque.  \n",
        "\n",
        "- ‘Censo por modalidad’ contiene unos 2297 registros con carácteres especiales, en concreto (-) y un valor nulo. Puesto que esta columna será procesada para obtener el arte, dichos registros serán agrupados en una categoría de 'Otros', puesto que un buque debe estar registrado en un censo.  \n",
        "\n",
        "- ‘Material del casco’ muestra muy pocos registros con carácteres especiales, en concreto (-) y se procederá a su agrupación en una categoría 'Otros'.  \n",
        "\n",
        "- Las columnas ‘Potencia’, ‘Arqueo GT’ y ‘Eslora total’ muestran en torno a 2000 registros con valor 0, lo cual parece ilógico (un buque no puede tener una eslora total de 0 m, ni una capacidad o arqueo de 0 toneladas, ni una potencia del motor de 0 kw).\n",
        "En los siguientes apartados, estos valores serán imputados según el método especificado.\n"
      ]
    },
    {
      "cell_type": "code",
      "execution_count": 50,
      "metadata": {
        "colab": {
          "base_uri": "https://localhost:8080/"
        },
        "id": "fgq-JhJF3peH",
        "outputId": "99a343d0-e88c-4661-e716-05c053f40214"
      },
      "outputs": [
        {
          "name": "stdout",
          "output_type": "stream",
          "text": [
            "                                         total  nulos  vacios  solo_espacios  \\\n",
            "Tipo de auxiliar                         27364  27363       0              0   \n",
            "Capacidad del buque no aportable por:    27364  27220       0              0   \n",
            "IMO                                      27364      0       0              0   \n",
            "IRCS                                     27364      0       0              0   \n",
            "Potencia                                 27364      0       0              0   \n",
            "Arqueo GT                                27364      0       0              0   \n",
            "Censo por modalidad                      27364      1       0              0   \n",
            "Eslora total                             27364      0       0              0   \n",
            "Material del casco                       27364      0       0              0   \n",
            "CFR                                      27364      0       0              0   \n",
            "Matrícula                                27364      0       0              0   \n",
            "Nombre                                   27364      0       0              0   \n",
            "Estado                                   27364      0       0              0   \n",
            "Alta en RGFP                             27364      0       0              0   \n",
            "Puerto base                              27364      0       0              0   \n",
            "Administración responsable del Registro  27364      0       0              0   \n",
            "\n",
            "                                         solo_caracteres_especiales  ceros  \\\n",
            "Tipo de auxiliar                                                  1      0   \n",
            "Capacidad del buque no aportable por:                             0      0   \n",
            "IMO                                                           26267      0   \n",
            "IRCS                                                          20495      0   \n",
            "Potencia                                                          0   2718   \n",
            "Arqueo GT                                                         0   2474   \n",
            "Censo por modalidad                                            2296      0   \n",
            "Eslora total                                                      0   1986   \n",
            "Material del casco                                               24      0   \n",
            "CFR                                                               0      3   \n",
            "Matrícula                                                         0      0   \n",
            "Nombre                                                            0      0   \n",
            "Estado                                                            0      0   \n",
            "Alta en RGFP                                                      0      0   \n",
            "Puerto base                                                       0      0   \n",
            "Administración responsable del Registro                           0      0   \n",
            "\n",
            "                                         total_afectados  \n",
            "Tipo de auxiliar                                   27364  \n",
            "Capacidad del buque no aportable por:              27220  \n",
            "IMO                                                26267  \n",
            "IRCS                                               20495  \n",
            "Potencia                                            2718  \n",
            "Arqueo GT                                           2474  \n",
            "Censo por modalidad                                 2297  \n",
            "Eslora total                                        1986  \n",
            "Material del casco                                    24  \n",
            "CFR                                                    3  \n",
            "Matrícula                                              0  \n",
            "Nombre                                                 0  \n",
            "Estado                                                 0  \n",
            "Alta en RGFP                                           0  \n",
            "Puerto base                                            0  \n",
            "Administración responsable del Registro                0  \n"
          ]
        }
      ],
      "source": [
        "def resumen_nulos_vacios_y_ceros(data):\n",
        "    def es_cero(x):\n",
        "        if pd.isna(x):\n",
        "            return False\n",
        "        x_str = str(x).strip().lower()\n",
        "        match = re.search(r'[\\d.,]+', x_str)\n",
        "        if not match:\n",
        "            return False\n",
        "        num = match.group().replace(',', '.')\n",
        "        try:\n",
        "            return float(num) == 0.0\n",
        "        except:\n",
        "            return False\n",
        "\n",
        "    resumen = pd.DataFrame({\n",
        "        'total': data.shape[0],\n",
        "        'nulos': data.isnull().sum(),\n",
        "        'vacios': (data == '').sum(),\n",
        "        'solo_espacios': data.apply(lambda col: col.apply(lambda x: isinstance(x, str) and x.strip() == '')).sum(),\n",
        "        'solo_caracteres_especiales': data.apply(lambda col: col.apply(lambda x: bool(re.fullmatch(r\"[\\W_]+\", str(x).strip())))).sum(),\n",
        "        'ceros': data.apply(lambda col: col.apply(es_cero)).sum()\n",
        "    })\n",
        "    resumen['total_afectados'] = resumen[['nulos', 'vacios', 'solo_espacios', 'solo_caracteres_especiales', 'ceros']].sum(axis=1)\n",
        "    return resumen\n",
        "\n",
        "# Llamar a la función actualizada\n",
        "resumen_anomalias = resumen_nulos_vacios_y_ceros(data)\n",
        "\n",
        "# Mostrar resumen ordenado\n",
        "print(resumen_anomalias.sort_values(by='total_afectados', ascending=False))\n"
      ]
    },
    {
      "cell_type": "markdown",
      "metadata": {
        "id": "pajVrZJq961H"
      },
      "source": [
        "### **2.3. Simplificación del nombre de las columnas**\n",
        "Se han simplificado y estandarizado los nombres de las columnas del dataset para facilitar la escritura y lectura del código al eliminar espacios, tildes y caracteres especiales, permitiéndonos trabajar más eficientemente con funciones automatizadas o en bucles. Además, con esto se mejora la legibilidad, reduce errores y hace que el código sea más limpio, profesional y fácil de mantener, especialmente en proyectos colaborativos como el presente.   \n",
        "\n",
        "La simplificación ha sido:\n",
        "   - 'CFR': 'cfr',\n",
        "   -  'Nombre': 'nombre',\n",
        "   -  'Matrícula': 'matrícula',\n",
        "   -  'Alta en RGFP': 'fc_alta_rgfp',\n",
        "   -  'Estado': 'estado',\n",
        "   -  'Eslora total': 'eslora_total',\n",
        "   -  'Arqueo GT': 'arqueo_gt',\n",
        "   -  'Potencia': 'potencia',\n",
        "   -  'Material del casco': 'material_casco',\n",
        "   -  'Puerto base': 'puerto_base',\n",
        "   -  'Administración responsable del Registro': 'admin_registro',\n",
        "   -  'Censo por modalidad': 'censo_modalidad',\n",
        "   -  'Tipo de auxiliar' : 'tipo_auxiliar',\n",
        "   -  'Capacidad del buque no aportable por:' : 'capacidad_no_aportable',\n",
        "   -  'Material del casco' : 'material_casco',\n",
        "   -  'IMO' : 'IMO',\n",
        "   -  'IRCS': 'IRCS'\n"
      ]
    },
    {
      "cell_type": "code",
      "execution_count": 51,
      "metadata": {
        "id": "ptbJCPV3-DAP"
      },
      "outputs": [],
      "source": [
        "columnas_simplificadas = {\n",
        "    'CFR': 'cfr',\n",
        "    'Nombre': 'nombre',\n",
        "    'Matrícula': 'matricula',\n",
        "    'Alta en RGFP': 'fc_alta_rgfp',\n",
        "    'Estado': 'estado',\n",
        "    'Eslora total': 'eslora_total',\n",
        "    'Arqueo GT': 'arqueo_gt',\n",
        "    'Potencia': 'potencia',\n",
        "    'Material del casco': 'material_casco',\n",
        "    'Puerto base': 'puerto_base',\n",
        "    'Administración responsable del Registro': 'admin_registro',\n",
        "    'Censo por modalidad': 'censo_modalidad',\n",
        "    'Tipo de auxiliar' : 'tipo_auxiliar',\n",
        "    'Capacidad del buque no aportable por:' : 'capacidad_no_aportable',\n",
        "    'Material del casco' : 'material_casco',\n",
        "    'IMO' : 'IMO',\n",
        "    'IRCS': 'IRCS'\n",
        "}\n",
        "\n",
        "data = data.rename(columns=columnas_simplificadas)"
      ]
    },
    {
      "cell_type": "markdown",
      "metadata": {
        "id": "WqIBQ2zQB8qy"
      },
      "source": [
        "### **2.4. Corrección de errores de tipo de dato (1)**\n",
        "\n",
        "La limpieza y conversión de las columnas ‘eslora_total’, ‘arqueo_gt’ y ‘potencia’ fueron necesarias para garantizar una correcta interpretación y análisis de los datos. Originalmente, estas columnas estaban almacenadas como texto (object) debido a varias inconsistencias en su formato. Por ejemplo, ‘eslora_total’ y ‘arqueo_gt’ incluían unidades de medida como 'm' o caracteres no numéricos, y usaban comas , como separador decimal en lugar del punto (.) que Python espera para tratar valores numéricos. Esto impedía realizar cálculos o análisis estadísticos directamente.  \n",
        "\n",
        "En el caso de la columna ‘potencia’, el problema era aún más complejo: contenía información duplicada en diferentes unidades, como '202,26 kW (275,0 CV)', lo que requería extraer y estandarizar los valores en una sola unidad (por ejemplo, kilovatios). \n"
      ]
    },
    {
      "cell_type": "code",
      "execution_count": 52,
      "metadata": {
        "id": "rGFjIBxTC0T7"
      },
      "outputs": [],
      "source": [
        "# Función para limpiar columnas numéricas con texto, unidades y comas\n",
        "def limpiar_y_convertir_num(col):\n",
        "    return (\n",
        "        col.astype(str)  # Asegura que todo sea string\n",
        "        .str.replace(r'[^\\d,.-]', '', regex=True)  # Elimina letras y unidades\n",
        "        .str.replace(',', '.', regex=False)  # Sustituye comas por puntos como separador decimal\n",
        "        .replace('', np.nan)  # Reemplaza strings vacíos por NaN\n",
        "        .astype(float)  # Convierte a float\n",
        "    )"
      ]
    },
    {
      "cell_type": "code",
      "execution_count": 53,
      "metadata": {
        "id": "xSFK0NM-Cyr1"
      },
      "outputs": [],
      "source": [
        "# Aplicar la limpieza a las columnas indicadas\n",
        "data['eslora_total'] = limpiar_y_convertir_num(data['eslora_total'])\n",
        "data['arqueo_gt'] = limpiar_y_convertir_num(data['arqueo_gt'])\n",
        "\n",
        "# Para 'potencia', primero extraemos solo el número principal (antes de paréntesis o texto)\n",
        "data['potencia_kw'] = (\n",
        "    data['potencia']\n",
        "    .astype(str)\n",
        "    .str.extract(r'([\\d,.]+)')  # Extrae solo el primer número\n",
        "    [0]\n",
        "    .str.replace(',', '.', regex=False)\n",
        "    .astype(float)\n",
        ")\n"
      ]
    },
    {
      "cell_type": "code",
      "execution_count": 54,
      "metadata": {
        "colab": {
          "base_uri": "https://localhost:8080/"
        },
        "id": "3hLofyzDG_4O",
        "outputId": "8d2ec514-bf5f-47d1-8b5b-3f90a17fc55b"
      },
      "outputs": [
        {
          "name": "stdout",
          "output_type": "stream",
          "text": [
            "Valores únicos en 'eslora_total':\n",
            "[ 0.   10.75 11.25 ... 75.05 46.85 86.1 ]\n",
            "Tipo de dato: float64\n",
            "--------------------\n",
            "Valores únicos en 'arqueo_gt':\n",
            "[  52.7     0.      6.76 ... 2498.     57.46 4290.  ]\n",
            "Tipo de dato: float64\n",
            "--------------------\n",
            "Valores únicos en 'potencia_kw':\n",
            "[ 202.26   35.3    44.13 ... 4000.    261.03  776.  ]\n",
            "Tipo de dato: float64\n",
            "--------------------\n"
          ]
        }
      ],
      "source": [
        "column_list = ['eslora_total', 'arqueo_gt', 'potencia_kw']\n",
        "for col_name in column_list:\n",
        "    print(f\"Valores únicos en '{col_name}':\")\n",
        "    print(data[col_name].unique())\n",
        "    print(f\"Tipo de dato: {data[col_name].dtype}\")\n",
        "    print(\"-\" * 20)"
      ]
    },
    {
      "cell_type": "markdown",
      "metadata": {
        "id": "aizEZ2iFII2_"
      },
      "source": [
        "### **2.5. Corrección de errores de tipo de dato (2)**\n",
        "La conversión de la columna ‘alta_rgfp’ a tipo fecha es necesaria porque originalmente los valores estaban almacenados como texto (object), lo que impedía aprovechar las funcionalidades específicas que ofrece Python para trabajar con fechas. Este campo representa la fecha de alta en el Registro General de la Flota Pesquera, una información temporal clave para análisis cronológicos, cálculos de antigüedad, o filtrado por rangos de fechas.\n"
      ]
    },
    {
      "cell_type": "code",
      "execution_count": 55,
      "metadata": {
        "id": "kVDP73KYJkhX"
      },
      "outputs": [],
      "source": [
        "# Convertir columna alta_rgfp a datetime\n",
        "data['fc_alta_rgfp'] = pd.to_datetime(data['fc_alta_rgfp'], dayfirst=True, errors='coerce')"
      ]
    },
    {
      "cell_type": "markdown",
      "metadata": {
        "id": "g8O-GHpGprAY"
      },
      "source": [
        "## **3. Transformación estructural del dataset**\n",
        "### **3.1. Descomposicion de columnas**\n",
        "#### **3.1.1. ‘estado’ en dos: ‘estado_rgfp’ y ‘fc_estado’**\n",
        "La separación de la columna ‘estado’ en dos columnas distintas, ‘estado_rgfp’ y ‘fc_estado’, es necesaria para mejorar la claridad, la estructura y la utilidad de la información contenida en esa variable.  \n",
        "\n",
        "Originalmente, la columna ‘estado’ combinaba dos tipos de datos diferentes: por un lado, una categoría del estado administrativo del buque (por ejemplo, “Baja Definitiva”) y, por otro, una fecha asociada a ese estado (por ejemplo, “(desde el 02/12/1998)”). Esta mezcla dificulta el análisis automatizado, ya que impide utilizar la fecha como un dato temporal y el estado como una etiqueta categórica independiente.\n"
      ]
    },
    {
      "cell_type": "code",
      "execution_count": 56,
      "metadata": {
        "id": "tfLIo6cco2Ho"
      },
      "outputs": [],
      "source": [
        "# Extraer estado base (antes del paréntesis) y fecha contenida (si existe)\n",
        "# Estado principal (sin paréntesis)\n",
        "data['estado_rgfp'] = data['estado'].str.extract(r'^([^\\(]+)').iloc[:, 0].str.strip()\n",
        "\n",
        "# Extraer fecha en formato dd/mm/yyyy desde la columna estado\n",
        "data['fc_estado'] = pd.to_datetime(\n",
        "    data['estado'].str.extract(r'(\\d{2}/\\d{2}/\\d{4})')[0],\n",
        "    dayfirst=True,\n",
        "    errors='coerce'\n",
        ")"
      ]
    },
    {
      "cell_type": "markdown",
      "metadata": {
        "id": "735v_QiZp0yC"
      },
      "source": [
        "#### **3.1.2. ‘puerto_base’ en cuatro: ‘codigopostal’, ‘puerto’, ‘provincia’ y ‘comunidad atutonoma’**\n",
        "\n",
        "En ‘puerto_base’, varios datos (código postal, puerto, provincia y comunidad autónoma) estaban combinados en una sola cadena. Esto impide realizar análisis geográficos detallados o agrupar los registros por nivel administrativo. Separar estos elementos en columnas individuales permite normalizar la información y facilitar operaciones como filtrado, agrupación o visualización por comunidad o provincia.\n"
      ]
    },
    {
      "cell_type": "code",
      "execution_count": 57,
      "metadata": {
        "id": "QKSRC5uEOBtx"
      },
      "outputs": [],
      "source": [
        "# Lista con las provincias españolas\n",
        "provincias = [\n",
        "    'A Coruña', 'Álava', 'Albacete', 'Alicante', 'Almería', 'Asturias', 'Ávila', 'Badajoz',\n",
        "    'Barcelona', 'Burgos', 'Bizkaia', 'Cáceres', 'Cádiz', 'Cantabria', 'Castellón',\n",
        "    'Ciudad Real', 'Córdoba', 'Cuenca', 'Girona', 'Granada', 'Guadalajara',\n",
        "    'Gipuzkoa', 'Huelva', 'Huesca', 'Illes balears', 'Jaén', 'La Coruña',\n",
        "    'La Rioja', 'Las Palmas', 'León', 'Lérida', 'Lugo', 'Madrid', 'Málaga',\n",
        "    'Murcia', 'Navarra', 'Orense', 'Palencia', 'Pontevedra', 'Salamanca',\n",
        "    'Santa Cruz de Tenerife', 'Segovia', 'Sevilla', 'Soria', 'Tarragona',\n",
        "    'Teruel', 'Toledo', 'Valencia', 'Valladolid', 'Vizcaya', 'Zamora', 'Zaragoza',\n",
        "    'Ceuta', 'Melilla'\n",
        "]\n",
        "\n",
        "# Lista con las comnidades autonomas españolas\n",
        "comunidades_autonomas = [\n",
        "    'Andalucía', 'Aragón', 'Asturias', 'Illes balears', 'Canarias', 'Cantabria',\n",
        "    'Castilla-La Mancha', 'Castilla y León', 'Cataluña', 'Comunitat Valenciana',\n",
        "    'Extremadura', 'Galicia', 'Madrid', 'Murcia', 'Navarra', 'La Rioja',\n",
        "    'País Vasco', 'Ceuta', 'Melilla'\n",
        "]\n"
      ]
    },
    {
      "cell_type": "code",
      "execution_count": 58,
      "metadata": {
        "id": "iX4uBExXOBtx"
      },
      "outputs": [],
      "source": [
        "# Función para extraer la información\n",
        "def extraer_info(puerto_base):\n",
        "    codigo_postal = None\n",
        "    puerto = None\n",
        "    provincia = None\n",
        "    comunidad = None\n",
        "\n",
        "    if pd.isna(puerto_base):\n",
        "        return pd.Series([codigo_postal, puerto, provincia, comunidad])\n",
        "\n",
        "    # Extraer código postal (primeros 5 dígitos)\n",
        "    match_cp = re.match(r'(\\d{5})\\s*-\\s*(.*)', puerto_base)\n",
        "    if match_cp:\n",
        "        codigo_postal = match_cp.group(1)\n",
        "        resto = match_cp.group(2).strip()\n",
        "    else:\n",
        "        resto = puerto_base.strip()\n",
        "\n",
        "    # Buscar comunidad y provincia\n",
        "    comunidad = next((c for c in comunidades_autonomas if c.upper() in resto.upper()), None)\n",
        "    provincia = next((p for p in provincias if p.upper() in resto.upper()), None)\n",
        "\n",
        "    # Eliminar contenido entre paréntesis\n",
        "    resto = re.sub(r'\\s*\\(.*?\\)', '', resto).strip()\n",
        "\n",
        "    # Extraer el nombre del puerto (antes de la coma, si hay)\n",
        "    if ',' in resto:\n",
        "        puerto = resto.split(',')[0].strip()\n",
        "    else:\n",
        "        puerto = resto.strip()\n",
        "\n",
        "    # Casos especiales como Ceuta, Melilla (son ciudad, provincia y CCAA al mismo tiempo)\n",
        "    if provincia in ['Ceuta', 'Melilla']:\n",
        "        comunidad = comunidad\n",
        "        puerto = provincia\n",
        "\n",
        "    # Si no se encontró provincia pero sí comunidad que coincide con una provincia (ej: Cantabria)\n",
        "    if not provincia and comunidad in provincias:\n",
        "        provincia = comunidad\n",
        "\n",
        "    return pd.Series([codigo_postal, puerto, provincia, comunidad])\n"
      ]
    },
    {
      "cell_type": "code",
      "execution_count": 59,
      "metadata": {
        "id": "llbjYYbUOBtx"
      },
      "outputs": [],
      "source": [
        "data[['Código Postal', 'Puerto', 'Provincia', 'Comunidad Autónoma']] = data['puerto_base'].apply(extraer_info)"
      ]
    },
    {
      "cell_type": "markdown",
      "metadata": {
        "id": "OhZXuS3DqTMo"
      },
      "source": [
        "### **3.2. Estandarización de categorías**\n",
        "En Censo por modalidad, cada valor combinaba el tipo de arte de pesca con la zona de actividad, sin un formato homogéneo. Clasificar estos censos en categorías estandarizadas como \"Arrastre\", \"Palangre\", \"Cerco\", etc., permite agrupar modalidades distintas bajo criterios comunes, simplificando el análisis técnico y operativo de la flota.\n"
      ]
    },
    {
      "cell_type": "code",
      "execution_count": 60,
      "metadata": {
        "id": "BzrjIsZuOBty"
      },
      "outputs": [],
      "source": [
        "def clasificar_arte(censo):\n",
        "    if pd.isna(censo) or censo.strip() == '-':\n",
        "        return 'Desconocido'\n",
        "    censo = censo.upper()\n",
        "    if 'ARRASTRE' in censo or 'ARRASTREROS' in censo or 'BACALADEROS' in censo:\n",
        "        return 'Arrastre'\n",
        "    elif 'CERCO' in censo or 'CERQUEROS' in censo:\n",
        "        return 'Cerco'\n",
        "    elif 'PALANGRE' in censo:\n",
        "        return 'Palangre'\n",
        "    elif 'ARTES MENORES' in censo:\n",
        "        return 'Artes menores'\n",
        "    elif 'ARTES FIJAS' in censo or 'VOLANTA' in censo or 'RASCO' in censo:\n",
        "        return 'Artes fijas'\n",
        "    elif 'CAÑEROS' in censo:\n",
        "        return 'Cañeros'\n",
        "    else:\n",
        "        return 'Otros'\n"
      ]
    },
    {
      "cell_type": "code",
      "execution_count": 61,
      "metadata": {
        "id": "4-_u3tZCOBty"
      },
      "outputs": [],
      "source": [
        "data['Tipo de Arte'] = data['censo_modalidad'].apply(clasificar_arte)"
      ]
    },
    {
      "cell_type": "markdown",
      "metadata": {},
      "source": [
        "## **4. Tratamiento de valores anómalos y calidad de datos**\n",
        "### **4.1. Identificación y gestión de valores extremos**\n",
        "#### **4.1.1. Imputación de los valores 0 e ilógicos**\n",
        "\n",
        "Se ha realizado una imputación en las variables numéricas que contienen valores cero, reemplazándolos por valores nulos, ya que un buque no puede tener eslora 0 m, arqueo 0 toneladas o potencia 0 kW; estos ceros probablemente se deben a la antigüedad de los datos y a limitaciones en la recolección original. Para la imputación utilizamos el método de los k vecinos más cercanos con k=15, lo que nos brinda mayor robustez frente a valores atípicos.  \n",
        "\n",
        "Optamos por k=15 porque con un número bajo de vecinos, como 3, la imputación puede distorsionarse si alguno de esos vecinos es un outlier. Al aumentar a 15 vecinos, el impacto de valores atípicos se diluye al promediar más observaciones, captando mejor la tendencia general y suavizando la variabilidad extrema. Además, dado que contamos con más de 27,000 registros, este valor de k es razonable y evita sesgos o sobre ajustes.  \n",
        "\n",
        "Tras la imputación, los valores cero y NaN desaparecieron por completo en las columnas tratadas, y las estadísticas descriptivas muestran que las medias, medianas y desviaciones estándar se mantienen muy similares antes y después (eslora_total: (Media original: 11.481; Media imputada: 11.501; Mediana original: 7.500; Mediana imputada: 7.600; Desviación estándar original: 9.986; Desviación estándar imputada: 9.856); arqueo_gt: (Media original: 44.236; Media imputada: 45.424; Mediana original: 2.100; Mediana imputada: 2.310; Desviación estándar original: 180.621; Desviación estándar imputada: 179.309); potencia_kw: (Media original: 118.664; Media imputada: 107.847; Mediana original: 29.410; Mediana imputada: 22.060; Desviación estándar original: 274.204; Desviación estándar imputada: 262.285)), salvo en potencia_kw, donde la imputación suavizó la distribución. Esto confirma que el método preserva los patrones multidimensionales y la estructura latente del dataset, logrando imputaciones consistentes y realistas dentro del contexto general.\n"
      ]
    },
    {
      "cell_type": "code",
      "execution_count": 62,
      "metadata": {},
      "outputs": [
        {
          "name": "stdout",
          "output_type": "stream",
          "text": [
            "Valores cero originales por columna:\n",
            "eslora_total    1986\n",
            "arqueo_gt       2474\n",
            "potencia_kw     2718\n",
            "dtype: int64\n",
            "Valores NaN originales por columna:\n",
            "eslora_total    0\n",
            "arqueo_gt       0\n",
            "potencia_kw     0\n",
            "dtype: int64\n",
            "Valores NaN tras imputación:\n",
            "eslora_total    0\n",
            "arqueo_gt       0\n",
            "potencia_kw     0\n",
            "dtype: int64\n",
            "Valores cero tras imputación:\n",
            "eslora_total    0\n",
            "arqueo_gt       0\n",
            "potencia_kw     0\n",
            "dtype: int64\n",
            "\n",
            "Columna: eslora_total\n",
            " - Media original (excluyendo ceros y NaNs): 11.481\n",
            " - Media imputada: 11.501\n",
            " - Mediana original (excluyendo ceros y NaNs): 7.500\n",
            " - Mediana imputada: 7.600\n",
            " - Desviación estándar original (excluyendo ceros y NaNs): 9.986\n",
            " - Desviación estándar imputada: 9.855\n",
            "\n",
            "Columna: arqueo_gt\n",
            " - Media original (excluyendo ceros y NaNs): 44.236\n",
            " - Media imputada: 45.457\n",
            " - Mediana original (excluyendo ceros y NaNs): 2.100\n",
            " - Mediana imputada: 2.300\n",
            " - Desviación estándar original (excluyendo ceros y NaNs): 180.621\n",
            " - Desviación estándar imputada: 179.324\n",
            "\n",
            "Columna: potencia_kw\n",
            " - Media original (excluyendo ceros y NaNs): 118.664\n",
            " - Media imputada: 107.845\n",
            " - Mediana original (excluyendo ceros y NaNs): 29.410\n",
            " - Mediana imputada: 22.060\n",
            " - Desviación estándar original (excluyendo ceros y NaNs): 274.204\n",
            " - Desviación estándar imputada: 262.286\n"
          ]
        }
      ],
      "source": [
        "# Copiamos el DataFrame para no modificar el original\n",
        "data_imputed = data.copy()\n",
        "\n",
        "# Columnas numéricas a tratar\n",
        "numeric_cols = ['eslora_total', 'arqueo_gt', 'potencia_kw']\n",
        "\n",
        "# Guardamos copia de los datos originales para comparar\n",
        "original_values = data[numeric_cols].copy()\n",
        "\n",
        "# Paso 1: Reemplazar los 0.00 por NaN\n",
        "for col in numeric_cols:\n",
        "    data_imputed[col] = data_imputed[col].replace(0.00, np.nan)\n",
        "\n",
        "# Contamos cuántos ceros y NaNs había antes\n",
        "print(\"Valores cero originales por columna:\")\n",
        "print((original_values == 0.00).sum())\n",
        "print(\"Valores NaN originales por columna:\")\n",
        "print(original_values.isna().sum())\n",
        "\n",
        "# Paso 2: Aplicar KNN Imputer (k=15)\n",
        "imputer = KNNImputer(n_neighbors=15)\n",
        "\n",
        "# Solo imputamos las columnas numéricas\n",
        "data_imputed[numeric_cols] = imputer.fit_transform(data_imputed[numeric_cols])\n",
        "\n",
        "# Verificamos que ya no hay ceros ni NaNs en esas columnas\n",
        "print(\"Valores NaN tras imputación:\")\n",
        "print(data_imputed[numeric_cols].isna().sum())\n",
        "print(\"Valores cero tras imputación:\")\n",
        "print((data_imputed[numeric_cols] == 0.00).sum())\n",
        "\n",
        "# Comparación estadística antes y después\n",
        "for col in numeric_cols:\n",
        "    print(f\"\\nColumna: {col}\")\n",
        "    print(f\" - Media original (excluyendo ceros y NaNs): {original_values[col][original_values[col] != 0].dropna().mean():.3f}\")\n",
        "    print(f\" - Media imputada: {data_imputed[col].mean():.3f}\")\n",
        "    print(f\" - Mediana original (excluyendo ceros y NaNs): {original_values[col][original_values[col] != 0].dropna().median():.3f}\")\n",
        "    print(f\" - Mediana imputada: {data_imputed[col].median():.3f}\")\n",
        "    print(f\" - Desviación estándar original (excluyendo ceros y NaNs): {original_values[col][original_values[col] != 0].dropna().std():.3f}\")\n",
        "    print(f\" - Desviación estándar imputada: {data_imputed[col].std():.3f}\")\n"
      ]
    },
    {
      "cell_type": "markdown",
      "metadata": {},
      "source": [
        "#### **4.1.2. Detección de outliers**\n",
        "Los siguientes tres boxplots para las variables ‘eslora_total’, ‘arqueo_gt’ y ‘potencia_kw’, junto con líneas que marcan los límites para identificar outliers. En ‘eslora_total’, la mayoría de los buques miden menos de 25 metros, pero hay muchos valores por encima del límite superior, indicando embarcaciones atípicamente grandes. En ‘arqueo_gt’, la distribución está centrada en valores bajos, aunque se observan numerosos outliers, algunos por encima de 4000 GT, reflejando un pequeño grupo de buques con gran capacidad. En ‘potencia_kw’, el patrón se repite: predominan potencias bajas, pero existen muchos valores extremos, incluso mayores a 5000 kW. Estos outliers, aunque válidos, deben considerarse en futuros análisis, ya que pueden afectar la interpretación estadística de la flota.\n"
      ]
    },
    {
      "cell_type": "code",
      "execution_count": 63,
      "metadata": {},
      "outputs": [
        {
          "data": {
            "image/png": "[encoded data removed]",
            "text/plain": [
              "<Figure size 1500x500 with 3 Axes>"
            ]
          },
          "metadata": {},
          "output_type": "display_data"
        }
      ],
      "source": [
        "# Selección de columnas numéricas\n",
        "numeric_cols = ['eslora_total', 'arqueo_gt', 'potencia_kw']\n",
        "\n",
        "# Crear una figura con subplots\n",
        "fig, axes = plt.subplots(nrows=1, ncols=len(numeric_cols), figsize=(15, 5))\n",
        "\n",
        "# Crear un boxplot para cada variable con líneas del IQR\n",
        "for i, col in enumerate(numeric_cols):\n",
        "    # Calcular los cuartiles y el IQR\n",
        "    Q1 = data_imputed[col].quantile(0.25)\n",
        "    Q3 = data_imputed[col].quantile(0.75)\n",
        "    IQR = Q3 - Q1\n",
        "    lower_bound = Q1 - 1.5 * IQR\n",
        "    upper_bound = Q3 + 1.5 * IQR\n",
        "\n",
        "    # Crear boxplot\n",
        "    sns.boxplot(y=data_imputed[col], ax=axes[i])\n",
        "    axes[i].axhline(lower_bound, color='red', linestyle='--', label='Límite inferior')\n",
        "    axes[i].axhline(upper_bound, color='green', linestyle='--', label='Límite superior')\n",
        "    axes[i].set_title(f'Boxplot de {col}')\n",
        "    axes[i].set_xlabel('')\n",
        "    axes[i].set_ylabel('')\n",
        "\n",
        "    # Añadir leyenda solo al primer gráfico\n",
        "    if i == 0:\n",
        "        axes[i].legend()\n",
        "\n",
        "plt.tight_layout()\n",
        "\n",
        "fig.savefig(r\"C:\\Users\\jubeda2\\Documents\\GitHub\\tipologia_PR2\\figures\\boxplots_outliers.png\")\n",
        "\n",
        "\n",
        "plt.show()\n"
      ]
    },
    {
      "cell_type": "markdown",
      "metadata": {
        "id": "gGzcT6pox2Bp"
      },
      "source": [
        "### **4.2. Eliminación de columnas no relevantes**\n",
        "Se eliminaron las columnas 'IMO', 'IRCS', 'matricula', 'estado', 'potencia', 'puerto_base', 'admin_registro', 'censo_modalidad', 'capacidad_no_aportable', 'tipo_auxiliar' y 'Código Postal' por no aportar información relevante para el análisis actual.\n"
      ]
    },
    {
      "cell_type": "code",
      "execution_count": 64,
      "metadata": {
        "id": "l41zV8FnxsNK"
      },
      "outputs": [],
      "source": [
        "# Lista de columnas a eliminar\n",
        "columnas_a_eliminar = ['IMO', 'IRCS','matricula', 'estado', 'potencia', 'puerto_base', 'admin_registro', 'censo_modalidad', 'capacidad_no_aportable', 'tipo_auxiliar', 'Código Postal']\n",
        "\n",
        "# Eliminar las columnas del DataFrame\n",
        "data_1 = data_imputed.drop(columns=columnas_a_eliminar)"
      ]
    },
    {
      "cell_type": "markdown",
      "metadata": {},
      "source": [
        "## **5. Enriquecimiento y análisis exploratorio inicial**\n",
        "### **5.1. Creación de la variable ‘edad_buque’**\n",
        "La variable ‘edad_buque’ ha sido creada con el objetivo de calcular la antigüedad de cada embarcación desde su fecha de alta en el registro hasta su fecha de baja definitiva (si aplica) o hasta la fecha actual, en caso de que siga activa. Esta variable permite analizar la edad operativa de los buques, clave para estudios del ciclo de vida o posibles reemplazos. \n"
      ]
    },
    {
      "cell_type": "code",
      "execution_count": 65,
      "metadata": {},
      "outputs": [
        {
          "data": {
            "text/html": [
              "<div>\n",
              "<style scoped>\n",
              "    .dataframe tbody tr th:only-of-type {\n",
              "        vertical-align: middle;\n",
              "    }\n",
              "\n",
              "    .dataframe tbody tr th {\n",
              "        vertical-align: top;\n",
              "    }\n",
              "\n",
              "    .dataframe thead th {\n",
              "        text-align: right;\n",
              "    }\n",
              "</style>\n",
              "<table border=\"1\" class=\"dataframe\">\n",
              "  <thead>\n",
              "    <tr style=\"text-align: right;\">\n",
              "      <th></th>\n",
              "      <th>cfr</th>\n",
              "      <th>nombre</th>\n",
              "      <th>fc_alta_rgfp</th>\n",
              "      <th>eslora_total</th>\n",
              "      <th>arqueo_gt</th>\n",
              "      <th>material_casco</th>\n",
              "      <th>potencia_kw</th>\n",
              "      <th>estado_rgfp</th>\n",
              "      <th>fc_estado</th>\n",
              "      <th>Puerto</th>\n",
              "      <th>Provincia</th>\n",
              "      <th>Comunidad Autónoma</th>\n",
              "      <th>Tipo de Arte</th>\n",
              "      <th>Edad_buque</th>\n",
              "    </tr>\n",
              "  </thead>\n",
              "  <tbody>\n",
              "    <tr>\n",
              "      <th>420</th>\n",
              "      <td>ESP000000514</td>\n",
              "      <td>CELSO</td>\n",
              "      <td>1989-05-10</td>\n",
              "      <td>5.70</td>\n",
              "      <td>0.94</td>\n",
              "      <td>Madera</td>\n",
              "      <td>6.99</td>\n",
              "      <td>Alta Definitiva</td>\n",
              "      <td>2023-03-31</td>\n",
              "      <td>Tazacorte</td>\n",
              "      <td>Santa Cruz de Tenerife</td>\n",
              "      <td>Canarias</td>\n",
              "      <td>Artes menores</td>\n",
              "      <td>36</td>\n",
              "    </tr>\n",
              "    <tr>\n",
              "      <th>429</th>\n",
              "      <td>ESP000000524</td>\n",
              "      <td>SAN PEDRO</td>\n",
              "      <td>1989-05-10</td>\n",
              "      <td>10.31</td>\n",
              "      <td>4.81</td>\n",
              "      <td>Madera</td>\n",
              "      <td>29.40</td>\n",
              "      <td>Alta Definitiva</td>\n",
              "      <td>2015-12-01</td>\n",
              "      <td>Caleta del Sebo</td>\n",
              "      <td>Las Palmas</td>\n",
              "      <td>Canarias</td>\n",
              "      <td>Artes menores</td>\n",
              "      <td>36</td>\n",
              "    </tr>\n",
              "    <tr>\n",
              "      <th>447</th>\n",
              "      <td>ESP000000543</td>\n",
              "      <td>JUANITO</td>\n",
              "      <td>1989-05-10</td>\n",
              "      <td>7.93</td>\n",
              "      <td>2.39</td>\n",
              "      <td>Madera</td>\n",
              "      <td>8.82</td>\n",
              "      <td>Alta Definitiva</td>\n",
              "      <td>2023-01-20</td>\n",
              "      <td>Playa Blanca</td>\n",
              "      <td>Las Palmas</td>\n",
              "      <td>Canarias</td>\n",
              "      <td>Artes menores</td>\n",
              "      <td>36</td>\n",
              "    </tr>\n",
              "    <tr>\n",
              "      <th>448</th>\n",
              "      <td>ESP000000544</td>\n",
              "      <td>EL UNION</td>\n",
              "      <td>1989-05-10</td>\n",
              "      <td>11.79</td>\n",
              "      <td>7.41</td>\n",
              "      <td>Madera</td>\n",
              "      <td>69.85</td>\n",
              "      <td>Alta Definitiva</td>\n",
              "      <td>2024-01-12</td>\n",
              "      <td>Gran Tarajal</td>\n",
              "      <td>Las Palmas</td>\n",
              "      <td>Canarias</td>\n",
              "      <td>Artes menores</td>\n",
              "      <td>36</td>\n",
              "    </tr>\n",
              "    <tr>\n",
              "      <th>617</th>\n",
              "      <td>ESP000000759</td>\n",
              "      <td>EL INGLES</td>\n",
              "      <td>1989-05-10</td>\n",
              "      <td>10.80</td>\n",
              "      <td>4.39</td>\n",
              "      <td>Poliester</td>\n",
              "      <td>27.21</td>\n",
              "      <td>Alta Definitiva</td>\n",
              "      <td>2022-12-02</td>\n",
              "      <td>Agaete</td>\n",
              "      <td>Las Palmas</td>\n",
              "      <td>Canarias</td>\n",
              "      <td>Artes menores</td>\n",
              "      <td>36</td>\n",
              "    </tr>\n",
              "    <tr>\n",
              "      <th>...</th>\n",
              "      <td>...</td>\n",
              "      <td>...</td>\n",
              "      <td>...</td>\n",
              "      <td>...</td>\n",
              "      <td>...</td>\n",
              "      <td>...</td>\n",
              "      <td>...</td>\n",
              "      <td>...</td>\n",
              "      <td>...</td>\n",
              "      <td>...</td>\n",
              "      <td>...</td>\n",
              "      <td>...</td>\n",
              "      <td>...</td>\n",
              "      <td>...</td>\n",
              "    </tr>\n",
              "    <tr>\n",
              "      <th>27357</th>\n",
              "      <td>FRA000642951</td>\n",
              "      <td>CARMINCHIN</td>\n",
              "      <td>2017-12-13</td>\n",
              "      <td>16.04</td>\n",
              "      <td>57.46</td>\n",
              "      <td>Acero</td>\n",
              "      <td>261.00</td>\n",
              "      <td>Alta Definitiva</td>\n",
              "      <td>2023-03-31</td>\n",
              "      <td>Mugia</td>\n",
              "      <td>A Coruña</td>\n",
              "      <td>Galicia</td>\n",
              "      <td>Palangre</td>\n",
              "      <td>7</td>\n",
              "    </tr>\n",
              "    <tr>\n",
              "      <th>27358</th>\n",
              "      <td>GBR000C18081</td>\n",
              "      <td>MAR DE BENS</td>\n",
              "      <td>2021-01-13</td>\n",
              "      <td>46.85</td>\n",
              "      <td>468.00</td>\n",
              "      <td>Acero</td>\n",
              "      <td>719.78</td>\n",
              "      <td>Alta Definitiva</td>\n",
              "      <td>2022-09-28</td>\n",
              "      <td>Vigo</td>\n",
              "      <td>Pontevedra</td>\n",
              "      <td>Galicia</td>\n",
              "      <td>Palangre</td>\n",
              "      <td>4</td>\n",
              "    </tr>\n",
              "    <tr>\n",
              "      <th>27359</th>\n",
              "      <td>GBR000C20512</td>\n",
              "      <td>LODAIRO</td>\n",
              "      <td>2018-10-16</td>\n",
              "      <td>86.10</td>\n",
              "      <td>4290.00</td>\n",
              "      <td>Acero</td>\n",
              "      <td>4000.00</td>\n",
              "      <td>Alta Definitiva</td>\n",
              "      <td>2019-08-06</td>\n",
              "      <td>Vigo</td>\n",
              "      <td>Pontevedra</td>\n",
              "      <td>Galicia</td>\n",
              "      <td>Arrastre</td>\n",
              "      <td>6</td>\n",
              "    </tr>\n",
              "    <tr>\n",
              "      <th>27362</th>\n",
              "      <td>PRT000020349</td>\n",
              "      <td>BRESO UNO</td>\n",
              "      <td>2016-11-21</td>\n",
              "      <td>23.00</td>\n",
              "      <td>131.00</td>\n",
              "      <td>Acero</td>\n",
              "      <td>261.03</td>\n",
              "      <td>Alta Definitiva</td>\n",
              "      <td>2016-12-19</td>\n",
              "      <td>Burela</td>\n",
              "      <td>Lugo</td>\n",
              "      <td>Galicia</td>\n",
              "      <td>Artes fijas</td>\n",
              "      <td>8</td>\n",
              "    </tr>\n",
              "    <tr>\n",
              "      <th>27363</th>\n",
              "      <td>PRT000020436</td>\n",
              "      <td>CIUDAD DE HUELVA</td>\n",
              "      <td>2017-07-10</td>\n",
              "      <td>32.53</td>\n",
              "      <td>287.00</td>\n",
              "      <td>Acero</td>\n",
              "      <td>776.00</td>\n",
              "      <td>Alta Definitiva</td>\n",
              "      <td>2018-03-26</td>\n",
              "      <td>Huelva</td>\n",
              "      <td>Huelva</td>\n",
              "      <td>Andalucía</td>\n",
              "      <td>Arrastre</td>\n",
              "      <td>7</td>\n",
              "    </tr>\n",
              "  </tbody>\n",
              "</table>\n",
              "<p>3848 rows × 14 columns</p>\n",
              "</div>"
            ],
            "text/plain": [
              "                cfr            nombre fc_alta_rgfp  eslora_total  arqueo_gt  \\\n",
              "420    ESP000000514             CELSO   1989-05-10          5.70       0.94   \n",
              "429    ESP000000524         SAN PEDRO   1989-05-10         10.31       4.81   \n",
              "447    ESP000000543           JUANITO   1989-05-10          7.93       2.39   \n",
              "448    ESP000000544          EL UNION   1989-05-10         11.79       7.41   \n",
              "617    ESP000000759         EL INGLES   1989-05-10         10.80       4.39   \n",
              "...             ...               ...          ...           ...        ...   \n",
              "27357  FRA000642951        CARMINCHIN   2017-12-13         16.04      57.46   \n",
              "27358  GBR000C18081       MAR DE BENS   2021-01-13         46.85     468.00   \n",
              "27359  GBR000C20512           LODAIRO   2018-10-16         86.10    4290.00   \n",
              "27362  PRT000020349         BRESO UNO   2016-11-21         23.00     131.00   \n",
              "27363  PRT000020436  CIUDAD DE HUELVA   2017-07-10         32.53     287.00   \n",
              "\n",
              "      material_casco  potencia_kw      estado_rgfp  fc_estado  \\\n",
              "420           Madera         6.99  Alta Definitiva 2023-03-31   \n",
              "429           Madera        29.40  Alta Definitiva 2015-12-01   \n",
              "447           Madera         8.82  Alta Definitiva 2023-01-20   \n",
              "448           Madera        69.85  Alta Definitiva 2024-01-12   \n",
              "617        Poliester        27.21  Alta Definitiva 2022-12-02   \n",
              "...              ...          ...              ...        ...   \n",
              "27357          Acero       261.00  Alta Definitiva 2023-03-31   \n",
              "27358          Acero       719.78  Alta Definitiva 2022-09-28   \n",
              "27359          Acero      4000.00  Alta Definitiva 2019-08-06   \n",
              "27362          Acero       261.03  Alta Definitiva 2016-12-19   \n",
              "27363          Acero       776.00  Alta Definitiva 2018-03-26   \n",
              "\n",
              "                Puerto               Provincia Comunidad Autónoma  \\\n",
              "420          Tazacorte  Santa Cruz de Tenerife           Canarias   \n",
              "429    Caleta del Sebo              Las Palmas           Canarias   \n",
              "447       Playa Blanca              Las Palmas           Canarias   \n",
              "448       Gran Tarajal              Las Palmas           Canarias   \n",
              "617             Agaete              Las Palmas           Canarias   \n",
              "...                ...                     ...                ...   \n",
              "27357            Mugia                A Coruña            Galicia   \n",
              "27358             Vigo              Pontevedra            Galicia   \n",
              "27359             Vigo              Pontevedra            Galicia   \n",
              "27362           Burela                    Lugo            Galicia   \n",
              "27363           Huelva                  Huelva          Andalucía   \n",
              "\n",
              "        Tipo de Arte  Edad_buque  \n",
              "420    Artes menores          36  \n",
              "429    Artes menores          36  \n",
              "447    Artes menores          36  \n",
              "448    Artes menores          36  \n",
              "617    Artes menores          36  \n",
              "...              ...         ...  \n",
              "27357       Palangre           7  \n",
              "27358       Palangre           4  \n",
              "27359       Arrastre           6  \n",
              "27362    Artes fijas           8  \n",
              "27363       Arrastre           7  \n",
              "\n",
              "[3848 rows x 14 columns]"
            ]
          },
          "execution_count": 65,
          "metadata": {},
          "output_type": "execute_result"
        }
      ],
      "source": [
        "# Fecha de hoy\n",
        "hoy = pd.to_datetime(\"today\").normalize()\n",
        "\n",
        "# Crear la columna Edad_buque según el estado del buque\n",
        "data_1['Edad_buque'] = data_1.apply(\n",
        "    lambda row: (row['fc_estado'] - row['fc_alta_rgfp']).days // 365\n",
        "    if row['estado_rgfp'] == 'Baja Definitiva'\n",
        "    else (hoy - row['fc_alta_rgfp']).days // 365,\n",
        "    axis=1\n",
        ")\n",
        "\n",
        "# Verificación\n",
        "data_1[\n",
        "    (data_1['estado_rgfp'].str.contains('Alta', case=False)) &\n",
        "    (data_1['fc_alta_rgfp'] != data_1['fc_estado'])\n",
        "]"
      ]
    },
    {
      "cell_type": "markdown",
      "metadata": {},
      "source": [
        "#### **5.1.1. Distribución de los buques por su edad**\n",
        "A partir del gráfico de distribución de la edad de los buques, se observa que una parte significativa de la flota pesquera española está compuesta por buques con más de 30 años, lo que indica que muchos fueron construidos en los años 80. Sin embargo, también se aprecia una presencia notable de buques más recientes, especialmente en tramos de 0 a 10 años, lo que sugiere procesos de renovación. Estos datos permiten inferir que, aunque la flota ha envejecido, ha habido cierta modernización en las últimas décadas.   \n",
        "\n",
        "Las variaciones en el número de nuevos buques pueden estar relacionadas con eventos como la adhesión de España a la Comunidad Económica Europea en 1986 y la consiguiente adaptación a la Política Pesquera Común, que impulsó planes de reducción de flota y subvenciones para el desguace de buques (Europa-azul). Además, las reformas de la PPC y las restricciones medioambientales y económicas posteriores, como la crisis de 2008, podrían haber limitado la incorporación de nuevas unidades.\n"
      ]
    },
    {
      "cell_type": "code",
      "execution_count": 66,
      "metadata": {},
      "outputs": [
        {
          "data": {
            "image/png": "[encoded data removed]",
            "text/plain": [
              "<Figure size 1000x600 with 1 Axes>"
            ]
          },
          "metadata": {},
          "output_type": "display_data"
        }
      ],
      "source": [
        "# Histograma de la edad de los buques\n",
        "plt.figure(figsize=(10, 6))\n",
        "plt.hist(data_1['Edad_buque'], bins=20, edgecolor='black', color='skyblue')\n",
        "plt.title('Distribución de la Edad de los Buques')\n",
        "plt.xlabel('Edad del buque (años)')\n",
        "plt.ylabel('Número de buques')\n",
        "plt.grid(axis='y', linestyle='--', alpha=0.7)\n",
        "plt.tight_layout()\n",
        "plt.savefig(r\"C:\\Users\\jubeda2\\Documents\\GitHub\\tipologia_PR2\\figures\\histogramas_edadbuque.png\")\n",
        "\n",
        "plt.show()"
      ]
    },
    {
      "cell_type": "markdown",
      "metadata": {},
      "source": [
        "### **5.2. Evolución temporal de la eslora, arqueo y potencia de los buques**\n",
        "El gráfico muestra la evolución de las características físicas de la flota pesquera española (eslora, arqueo y potencia) a lo largo del tiempo, representadas en función de la edad de los buques. En términos generales, se observa que los buques más nuevos (menor edad) tienden a tener una eslora y arqueo ligeramente superiores, lo que indica una tendencia hacia embarcaciones algo más grandes y con mayor capacidad de carga. Sin embargo, es la potencia la que muestra más variabilidad, con picos elevados entre los buques más recientes, lo que sugiere una modernización orientada al rendimiento y la eficiencia operativa. Esta evolución puede estar relacionada con avances tecnológicos y con regulaciones que favorecen una flota más especializada y adaptada a las exigencias actuales del sector. Por ejemplo, el aumento de la potencia auxiliar permitió en 2008 el uso de redes más grandes, haciendo posible la pesca a grandes profundidades (Eur-lex-europa). Esta serie de subvenciones se podrían ver reflejadas en el pico más alto del gráfico para la potencia.\n"
      ]
    },
    {
      "cell_type": "code",
      "execution_count": 67,
      "metadata": {},
      "outputs": [
        {
          "data": {
            "image/png": "[encoded data removed]",
            "text/plain": [
              "<Figure size 1200x600 with 1 Axes>"
            ]
          },
          "metadata": {},
          "output_type": "display_data"
        }
      ],
      "source": [
        "# Agrupar por edad del buque y calcular la mediana\n",
        "df_median = data_1.groupby('Edad_buque')[['eslora_total', 'potencia_kw', 'arqueo_gt']].median().reset_index()\n",
        "\n",
        "# Estilo gráfico\n",
        "sns.set(style='whitegrid')\n",
        "\n",
        "# Crear el gráfico\n",
        "plt.figure(figsize=(12, 6))\n",
        "plt.plot(df_median['Edad_buque'], df_median['eslora_total'], label='Eslora total (m)', marker='o')\n",
        "plt.plot(df_median['Edad_buque'], df_median['potencia_kw'], label='Potencia (kW)', marker='s')\n",
        "plt.plot(df_median['Edad_buque'], df_median['arqueo_gt'], label='Arqueo GT', marker='^')\n",
        "\n",
        "# Añadir títulos y leyenda\n",
        "plt.title('Evolución de Eslora, Potencia y Arqueo según Edad del Buque (mediana)')\n",
        "plt.xlabel('Edad del buque (años)')\n",
        "plt.ylabel('Valor mediano')\n",
        "plt.legend()\n",
        "plt.tight_layout()\n",
        "plt.savefig(r\"C:\\Users\\jubeda2\\Documents\\GitHub\\tipologia_PR2\\figures\\lineplot_evolucion_esl-arq-pot.png\")\n",
        "\n",
        "plt.show()\n"
      ]
    },
    {
      "cell_type": "markdown",
      "metadata": {
        "id": "iHKJEpuZCaXP"
      },
      "source": [
        "### **5.3. Distribución en las columnas numéricas**\n",
        "Los siguientes tres histogramas correspondientes a las variables ‘eslora_total’, ‘arqueo_gt’ y ‘potencia_kw’, muestran distribuciones fuertemente sesgadas hacia la derecha. En el primer gráfico, la mayoría de las embarcaciones tienen una ‘eslora_total’ entre 0 y 20 metros, con un pico entre 5 y 10 metros y una larga cola que alcanza los 120 metros. El ‘arqueo_gt’, que representa el volumen interno, también se concentra en valores bajos (principalmente debajo de 500 GT) con algunos valores atípicos que superan los 4000 GT. De forma similar, la ‘potencia_kw’ se agrupa mayoritariamente por debajo de los 500 kW, aunque existen casos que superan los 6000 kW. Estas distribuciones indican una predominancia de embarcaciones pequeñas o medianas, con algunos pocos casos extremos, posteriormente se aplicaran transformaciones como la logarítmica, útiles para los análisis.\n"
      ]
    },
    {
      "cell_type": "code",
      "execution_count": 68,
      "metadata": {
        "colab": {
          "base_uri": "https://localhost:8080/",
          "height": 507
        },
        "id": "tm_IkShc4Bj8",
        "outputId": "0d39d619-61ff-40b3-817a-a747cfd2385e"
      },
      "outputs": [
        {
          "data": {
            "image/png": "[encoded data removed]",
            "text/plain": [
              "<Figure size 1500x500 with 3 Axes>"
            ]
          },
          "metadata": {},
          "output_type": "display_data"
        }
      ],
      "source": [
        "# Selección de columnas numéricas\n",
        "numeric_cols = ['eslora_total', 'arqueo_gt', 'potencia_kw']\n",
        "\n",
        "# Crear histogramas para cada variable\n",
        "fig, axes = plt.subplots(nrows=1, ncols=len(numeric_cols), figsize=(15, 5))\n",
        "\n",
        "for i, col in enumerate(numeric_cols):\n",
        "    axes[i].hist(data_1[col], bins=30, color='skyblue', edgecolor='black')\n",
        "    axes[i].set_title(f'Histograma de {col}')\n",
        "    axes[i].set_xlabel(col)\n",
        "    axes[i].set_ylabel('Frecuencia')\n",
        "\n",
        "plt.tight_layout()\n",
        "\n",
        "# Guardar figura\n",
        "fig.savefig(r\"C:\\Users\\jubeda2\\Documents\\GitHub\\tipologia_PR2\\figures\\histogramas_frecuencias_esl-arq-pot.png\")\n",
        "\n",
        "plt.show()\n"
      ]
    },
    {
      "cell_type": "markdown",
      "metadata": {
        "id": "OpCQph9dCg00"
      },
      "source": [
        "### **5.4. Correlaciones**\n",
        "La matriz de correlación muestra relaciones fuertes y positivas entre las tres variables numéricas analizadas:\n",
        "‘Eslora total’ y ‘arqueo_gt’ tienen una correlación de aproximadamente 0.80, lo que indica que a medida que aumenta la eslora (longitud) del buque, también tiende a aumentar su arqueo (tonelaje). Esto es esperable porque barcos más largos suelen tener mayor capacidad o peso.  \n",
        "\n",
        "‘Eslora total’ y ‘potencia_kw’ presentan una correlación aún más alta, alrededor de 0.87, lo que sugiere que buques más largos también suelen contar con motores de mayor potencia, reflejando la necesidad de impulsar embarcaciones de mayor tamaño.\n",
        "La relación entre ‘arqueo_gt’ y ‘potencia_kw’ es la más fuerte, con un valor de 0.94, lo que indica que el peso o volumen del buque está muy ligado a la potencia instalada. Esto es coherente, pues un mayor arqueo implica barcos más pesados que requieren motores más potentes para su operación eficiente.  \n",
        "\n",
        "En conjunto, estas correlaciones confirman que las variables están estrechamente relacionadas y reflejan dimensiones físicas y de rendimiento del buque que crecen conjuntamente. Esta consistencia también respalda la calidad de la imputación, ya que mantiene las relaciones naturales esperadas entre estas características.\n"
      ]
    },
    {
      "cell_type": "code",
      "execution_count": 69,
      "metadata": {
        "colab": {
          "base_uri": "https://localhost:8080/",
          "height": 537
        },
        "id": "uINK5pXSCtc-",
        "outputId": "923cf348-07aa-4f8b-96e3-838ddcadc409"
      },
      "outputs": [
        {
          "name": "stdout",
          "output_type": "stream",
          "text": [
            "              eslora_total  arqueo_gt  potencia_kw\n",
            "eslora_total      1.000000   0.799462     0.870160\n",
            "arqueo_gt         0.799462   1.000000     0.940737\n",
            "potencia_kw       0.870160   0.940737     1.000000\n"
          ]
        },
        {
          "data": {
            "image/png": "[encoded data removed]",
            "text/plain": [
              "<Figure size 600x500 with 2 Axes>"
            ]
          },
          "metadata": {},
          "output_type": "display_data"
        }
      ],
      "source": [
        "# Seleccionamos las columnas numéricas para la correlación\n",
        "numeric_cols = ['eslora_total', 'arqueo_gt', 'potencia_kw']\n",
        "\n",
        "# Calculamos la matriz de correlación (Pearson por defecto)\n",
        "corr_matrix = data_imputed[numeric_cols].corr()\n",
        "\n",
        "# Mostramos la matriz\n",
        "print(corr_matrix)\n",
        "\n",
        "# Visualizamos con un heatmap\n",
        "plt.figure(figsize=(6,5))\n",
        "sns.heatmap(corr_matrix, annot=True, cmap='coolwarm', center=0)\n",
        "plt.title('Matriz de correlación entre variables numéricas')\n",
        "\n",
        "# Guardar figura\n",
        "plt.savefig(r'C:\\Users\\jubeda2\\Documents\\GitHub\\tipologia_PR2\\figures\\correlacion_heatmap.png', dpi=300, bbox_inches='tight')\n",
        "\n",
        "plt.show()"
      ]
    },
    {
      "cell_type": "markdown",
      "metadata": {},
      "source": [
        "## **Extra. Resumen estadistico del dataframe limpio**"
      ]
    },
    {
      "cell_type": "code",
      "execution_count": 70,
      "metadata": {},
      "outputs": [],
      "source": [
        "def describe_df(data):\n",
        "    \"\"\"\n",
        "    Proporciona un resumen del DataFrame, incluyendo forma, tipos de datos, estadísticas básicas,\n",
        "    conteo de valores nulos y rangos de fechas para columnas datetime.\n",
        "\n",
        "    :param data: DataFrame de pandas.\n",
        "    :return: DataFrame con el resumen del DataFrame dado.\n",
        "    \"\"\"\n",
        "    summary = pd.DataFrame({\n",
        "        'Column': data.columns,\n",
        "        'Data Type': data.dtypes,\n",
        "        'Null Count': data.isnull().sum(),\n",
        "        'Unique Values': data.nunique()\n",
        "    }).reset_index(drop=True)\n",
        "\n",
        "    summary['Data Type'] = summary['Data Type'].astype(str)\n",
        "    summary['Shape'] = f\"{data.shape[0]} rows, {data.shape[1]} columns\"\n",
        "\n",
        "    # Estadísticas para columnas numéricas\n",
        "    numeric_cols = data.select_dtypes(include=['number']).columns\n",
        "    if not numeric_cols.empty:\n",
        "        numeric_stats = data[numeric_cols].describe().T[['mean', 'std', 'min', '25%', '50%', '75%', 'max']]\n",
        "        summary = summary.merge(numeric_stats, left_on='Column', right_index=True, how='left')\n",
        "\n",
        "    # Estadísticas para columnas de tipo datetime\n",
        "    datetime_cols = data.select_dtypes(include=['datetime64[ns]', 'datetime64[ns, UTC]']).columns\n",
        "    if not datetime_cols.empty:\n",
        "        date_stats = data[datetime_cols].agg(['min', 'max']).T\n",
        "        date_stats.columns = ['Date Min', 'Date Max']\n",
        "        summary = summary.merge(date_stats, left_on='Column', right_index=True, how='left')\n",
        "\n",
        "    return summary"
      ]
    },
    {
      "cell_type": "code",
      "execution_count": 74,
      "metadata": {},
      "outputs": [
        {
          "data": {
            "text/html": [
              "<div>\n",
              "<style scoped>\n",
              "    .dataframe tbody tr th:only-of-type {\n",
              "        vertical-align: middle;\n",
              "    }\n",
              "\n",
              "    .dataframe tbody tr th {\n",
              "        vertical-align: top;\n",
              "    }\n",
              "\n",
              "    .dataframe thead th {\n",
              "        text-align: right;\n",
              "    }\n",
              "</style>\n",
              "<table border=\"1\" class=\"dataframe\">\n",
              "  <thead>\n",
              "    <tr style=\"text-align: right;\">\n",
              "      <th></th>\n",
              "      <th>Column</th>\n",
              "      <th>Data Type</th>\n",
              "      <th>Null Count</th>\n",
              "      <th>Unique Values</th>\n",
              "      <th>Shape</th>\n",
              "      <th>mean</th>\n",
              "      <th>std</th>\n",
              "      <th>min</th>\n",
              "      <th>25%</th>\n",
              "      <th>50%</th>\n",
              "      <th>75%</th>\n",
              "      <th>max</th>\n",
              "      <th>Date Min</th>\n",
              "      <th>Date Max</th>\n",
              "    </tr>\n",
              "  </thead>\n",
              "  <tbody>\n",
              "    <tr>\n",
              "      <th>0</th>\n",
              "      <td>cfr</td>\n",
              "      <td>object</td>\n",
              "      <td>0</td>\n",
              "      <td>27364</td>\n",
              "      <td>27364 rows, 14 columns</td>\n",
              "      <td>NaN</td>\n",
              "      <td>NaN</td>\n",
              "      <td>NaN</td>\n",
              "      <td>NaN</td>\n",
              "      <td>NaN</td>\n",
              "      <td>NaN</td>\n",
              "      <td>NaN</td>\n",
              "      <td>NaT</td>\n",
              "      <td>NaT</td>\n",
              "    </tr>\n",
              "    <tr>\n",
              "      <th>1</th>\n",
              "      <td>nombre</td>\n",
              "      <td>object</td>\n",
              "      <td>0</td>\n",
              "      <td>19587</td>\n",
              "      <td>27364 rows, 14 columns</td>\n",
              "      <td>NaN</td>\n",
              "      <td>NaN</td>\n",
              "      <td>NaN</td>\n",
              "      <td>NaN</td>\n",
              "      <td>NaN</td>\n",
              "      <td>NaN</td>\n",
              "      <td>NaN</td>\n",
              "      <td>NaT</td>\n",
              "      <td>NaT</td>\n",
              "    </tr>\n",
              "    <tr>\n",
              "      <th>2</th>\n",
              "      <td>fc_alta_rgfp</td>\n",
              "      <td>datetime64[ns]</td>\n",
              "      <td>0</td>\n",
              "      <td>2538</td>\n",
              "      <td>27364 rows, 14 columns</td>\n",
              "      <td>NaN</td>\n",
              "      <td>NaN</td>\n",
              "      <td>NaN</td>\n",
              "      <td>NaN</td>\n",
              "      <td>NaN</td>\n",
              "      <td>NaN</td>\n",
              "      <td>NaN</td>\n",
              "      <td>1987-12-31</td>\n",
              "      <td>2025-03-25</td>\n",
              "    </tr>\n",
              "    <tr>\n",
              "      <th>3</th>\n",
              "      <td>eslora_total</td>\n",
              "      <td>float64</td>\n",
              "      <td>0</td>\n",
              "      <td>3922</td>\n",
              "      <td>27364 rows, 14 columns</td>\n",
              "      <td>11.500929</td>\n",
              "      <td>9.855268</td>\n",
              "      <td>1.00</td>\n",
              "      <td>5.35</td>\n",
              "      <td>7.60</td>\n",
              "      <td>14.00</td>\n",
              "      <td>116.00</td>\n",
              "      <td>NaT</td>\n",
              "      <td>NaT</td>\n",
              "    </tr>\n",
              "    <tr>\n",
              "      <th>4</th>\n",
              "      <td>arqueo_gt</td>\n",
              "      <td>float64</td>\n",
              "      <td>0</td>\n",
              "      <td>6852</td>\n",
              "      <td>27364 rows, 14 columns</td>\n",
              "      <td>45.457420</td>\n",
              "      <td>179.324009</td>\n",
              "      <td>0.10</td>\n",
              "      <td>0.94</td>\n",
              "      <td>2.30</td>\n",
              "      <td>18.01</td>\n",
              "      <td>4406.00</td>\n",
              "      <td>NaT</td>\n",
              "      <td>NaT</td>\n",
              "    </tr>\n",
              "    <tr>\n",
              "      <th>5</th>\n",
              "      <td>material_casco</td>\n",
              "      <td>object</td>\n",
              "      <td>0</td>\n",
              "      <td>8</td>\n",
              "      <td>27364 rows, 14 columns</td>\n",
              "      <td>NaN</td>\n",
              "      <td>NaN</td>\n",
              "      <td>NaN</td>\n",
              "      <td>NaN</td>\n",
              "      <td>NaN</td>\n",
              "      <td>NaN</td>\n",
              "      <td>NaN</td>\n",
              "      <td>NaT</td>\n",
              "      <td>NaT</td>\n",
              "    </tr>\n",
              "    <tr>\n",
              "      <th>6</th>\n",
              "      <td>potencia_kw</td>\n",
              "      <td>float64</td>\n",
              "      <td>0</td>\n",
              "      <td>3025</td>\n",
              "      <td>27364 rows, 14 columns</td>\n",
              "      <td>107.844788</td>\n",
              "      <td>262.286150</td>\n",
              "      <td>0.74</td>\n",
              "      <td>10.30</td>\n",
              "      <td>22.06</td>\n",
              "      <td>94.14</td>\n",
              "      <td>5851.63</td>\n",
              "      <td>NaT</td>\n",
              "      <td>NaT</td>\n",
              "    </tr>\n",
              "    <tr>\n",
              "      <th>7</th>\n",
              "      <td>estado_rgfp</td>\n",
              "      <td>object</td>\n",
              "      <td>0</td>\n",
              "      <td>4</td>\n",
              "      <td>27364 rows, 14 columns</td>\n",
              "      <td>NaN</td>\n",
              "      <td>NaN</td>\n",
              "      <td>NaN</td>\n",
              "      <td>NaN</td>\n",
              "      <td>NaN</td>\n",
              "      <td>NaN</td>\n",
              "      <td>NaN</td>\n",
              "      <td>NaT</td>\n",
              "      <td>NaT</td>\n",
              "    </tr>\n",
              "    <tr>\n",
              "      <th>8</th>\n",
              "      <td>fc_estado</td>\n",
              "      <td>datetime64[ns]</td>\n",
              "      <td>0</td>\n",
              "      <td>5055</td>\n",
              "      <td>27364 rows, 14 columns</td>\n",
              "      <td>NaN</td>\n",
              "      <td>NaN</td>\n",
              "      <td>NaN</td>\n",
              "      <td>NaN</td>\n",
              "      <td>NaN</td>\n",
              "      <td>NaN</td>\n",
              "      <td>NaN</td>\n",
              "      <td>1987-12-31</td>\n",
              "      <td>2025-04-02</td>\n",
              "    </tr>\n",
              "    <tr>\n",
              "      <th>9</th>\n",
              "      <td>Puerto</td>\n",
              "      <td>object</td>\n",
              "      <td>0</td>\n",
              "      <td>287</td>\n",
              "      <td>27364 rows, 14 columns</td>\n",
              "      <td>NaN</td>\n",
              "      <td>NaN</td>\n",
              "      <td>NaN</td>\n",
              "      <td>NaN</td>\n",
              "      <td>NaN</td>\n",
              "      <td>NaN</td>\n",
              "      <td>NaN</td>\n",
              "      <td>NaT</td>\n",
              "      <td>NaT</td>\n",
              "    </tr>\n",
              "    <tr>\n",
              "      <th>10</th>\n",
              "      <td>Provincia</td>\n",
              "      <td>object</td>\n",
              "      <td>0</td>\n",
              "      <td>24</td>\n",
              "      <td>27364 rows, 14 columns</td>\n",
              "      <td>NaN</td>\n",
              "      <td>NaN</td>\n",
              "      <td>NaN</td>\n",
              "      <td>NaN</td>\n",
              "      <td>NaN</td>\n",
              "      <td>NaN</td>\n",
              "      <td>NaN</td>\n",
              "      <td>NaT</td>\n",
              "      <td>NaT</td>\n",
              "    </tr>\n",
              "    <tr>\n",
              "      <th>11</th>\n",
              "      <td>Comunidad Autónoma</td>\n",
              "      <td>object</td>\n",
              "      <td>0</td>\n",
              "      <td>12</td>\n",
              "      <td>27364 rows, 14 columns</td>\n",
              "      <td>NaN</td>\n",
              "      <td>NaN</td>\n",
              "      <td>NaN</td>\n",
              "      <td>NaN</td>\n",
              "      <td>NaN</td>\n",
              "      <td>NaN</td>\n",
              "      <td>NaN</td>\n",
              "      <td>NaT</td>\n",
              "      <td>NaT</td>\n",
              "    </tr>\n",
              "    <tr>\n",
              "      <th>12</th>\n",
              "      <td>Tipo de Arte</td>\n",
              "      <td>object</td>\n",
              "      <td>0</td>\n",
              "      <td>7</td>\n",
              "      <td>27364 rows, 14 columns</td>\n",
              "      <td>NaN</td>\n",
              "      <td>NaN</td>\n",
              "      <td>NaN</td>\n",
              "      <td>NaN</td>\n",
              "      <td>NaN</td>\n",
              "      <td>NaN</td>\n",
              "      <td>NaN</td>\n",
              "      <td>NaT</td>\n",
              "      <td>NaT</td>\n",
              "    </tr>\n",
              "    <tr>\n",
              "      <th>13</th>\n",
              "      <td>Edad_buque</td>\n",
              "      <td>int64</td>\n",
              "      <td>0</td>\n",
              "      <td>38</td>\n",
              "      <td>27364 rows, 14 columns</td>\n",
              "      <td>17.309129</td>\n",
              "      <td>10.439923</td>\n",
              "      <td>0.00</td>\n",
              "      <td>9.00</td>\n",
              "      <td>16.00</td>\n",
              "      <td>24.00</td>\n",
              "      <td>37.00</td>\n",
              "      <td>NaT</td>\n",
              "      <td>NaT</td>\n",
              "    </tr>\n",
              "  </tbody>\n",
              "</table>\n",
              "</div>"
            ],
            "text/plain": [
              "                Column       Data Type  Null Count  Unique Values  \\\n",
              "0                  cfr          object           0          27364   \n",
              "1               nombre          object           0          19587   \n",
              "2         fc_alta_rgfp  datetime64[ns]           0           2538   \n",
              "3         eslora_total         float64           0           3922   \n",
              "4            arqueo_gt         float64           0           6852   \n",
              "5       material_casco          object           0              8   \n",
              "6          potencia_kw         float64           0           3025   \n",
              "7          estado_rgfp          object           0              4   \n",
              "8            fc_estado  datetime64[ns]           0           5055   \n",
              "9               Puerto          object           0            287   \n",
              "10           Provincia          object           0             24   \n",
              "11  Comunidad Autónoma          object           0             12   \n",
              "12        Tipo de Arte          object           0              7   \n",
              "13          Edad_buque           int64           0             38   \n",
              "\n",
              "                     Shape        mean         std   min    25%    50%    75%  \\\n",
              "0   27364 rows, 14 columns         NaN         NaN   NaN    NaN    NaN    NaN   \n",
              "1   27364 rows, 14 columns         NaN         NaN   NaN    NaN    NaN    NaN   \n",
              "2   27364 rows, 14 columns         NaN         NaN   NaN    NaN    NaN    NaN   \n",
              "3   27364 rows, 14 columns   11.500929    9.855268  1.00   5.35   7.60  14.00   \n",
              "4   27364 rows, 14 columns   45.457420  179.324009  0.10   0.94   2.30  18.01   \n",
              "5   27364 rows, 14 columns         NaN         NaN   NaN    NaN    NaN    NaN   \n",
              "6   27364 rows, 14 columns  107.844788  262.286150  0.74  10.30  22.06  94.14   \n",
              "7   27364 rows, 14 columns         NaN         NaN   NaN    NaN    NaN    NaN   \n",
              "8   27364 rows, 14 columns         NaN         NaN   NaN    NaN    NaN    NaN   \n",
              "9   27364 rows, 14 columns         NaN         NaN   NaN    NaN    NaN    NaN   \n",
              "10  27364 rows, 14 columns         NaN         NaN   NaN    NaN    NaN    NaN   \n",
              "11  27364 rows, 14 columns         NaN         NaN   NaN    NaN    NaN    NaN   \n",
              "12  27364 rows, 14 columns         NaN         NaN   NaN    NaN    NaN    NaN   \n",
              "13  27364 rows, 14 columns   17.309129   10.439923  0.00   9.00  16.00  24.00   \n",
              "\n",
              "        max   Date Min   Date Max  \n",
              "0       NaN        NaT        NaT  \n",
              "1       NaN        NaT        NaT  \n",
              "2       NaN 1987-12-31 2025-03-25  \n",
              "3    116.00        NaT        NaT  \n",
              "4   4406.00        NaT        NaT  \n",
              "5       NaN        NaT        NaT  \n",
              "6   5851.63        NaT        NaT  \n",
              "7       NaN        NaT        NaT  \n",
              "8       NaN 1987-12-31 2025-04-02  \n",
              "9       NaN        NaT        NaT  \n",
              "10      NaN        NaT        NaT  \n",
              "11      NaN        NaT        NaT  \n",
              "12      NaN        NaT        NaT  \n",
              "13    37.00        NaT        NaT  "
            ]
          },
          "execution_count": 74,
          "metadata": {},
          "output_type": "execute_result"
        }
      ],
      "source": [
        "stats_data_1 = describe_df(data_1)\n",
        "stats_data_1"
      ]
    },
    {
      "cell_type": "code",
      "execution_count": 75,
      "metadata": {
        "id": "FhPWZhEHDMS9"
      },
      "outputs": [],
      "source": [
        "# Guardar el dataframe estadisticas\n",
        "stats_data_1.to_csv(r\"C:\\Users\\jubeda2\\Documents\\GitHub\\tipologia_PR2\\output\\EstadisticasDescriptivas.csv\", index= False)\n",
        "\n",
        "# Guardar el dataframe resultante\n",
        "data_1.to_csv(r\"C:\\Users\\jubeda2\\Documents\\GitHub\\tipologia_PR2\\data\\data_clean_v2.csv\", index= False)"
      ]
    },
    {
      "cell_type": "markdown",
      "metadata": {
        "id": "npAUst_kOBty"
      },
      "source": [
        "## **6. Análisis de los datos**\n",
        "### **6.1. Aplica un modelo supervisado y uno no supervisado a los datos y comenta los resultados obtenidos**\n",
        "### **6.2. Aplica una prueba por contraste de hipótesis. Ten en cuenta que algunas de estas pruebas requieren verificar previamente la normalidad y homocedasticidad de los datos.**"
      ]
    },
    {
      "cell_type": "markdown",
      "metadata": {
        "id": "GVS7etqFOBty"
      },
      "source": [
        "## Durante apartados. Representación de los resultados a partir de tablas y gráficas. Este apartado se puede responder a lo largo de la práctica, sin necesidad de concentrar todas las representaciones en este apartado. Se debe representar tanto el contenido del dataset para observar las proporciones y distribuciones de las diferentes variables una vez aplicada la etapa de limpieza, como los resultados obtenidos tras la etapa de análisis."
      ]
    },
    {
      "cell_type": "markdown",
      "metadata": {
        "id": "XiNgB40gOBty"
      },
      "source": [
        "## **7. Resolución del problema. A partir de los resultados obtenidos, ¿cuáles son las conclusiones? ¿Los resultados permiten responder al problema?**\n"
      ]
    },
    {
      "cell_type": "markdown",
      "metadata": {
        "id": "qa_0sUiUOBty"
      },
      "source": [
        "## **8. Código. Hay que adjuntar el código, preferiblemente en R, con el que se ha realizado la limpieza, análisis y representación de los datos. Si lo preferís, también podéis trabajar en Python.**\n",
        "\n",
        "El codigo se encuentra en el repositorio bla bla bla.\n"
      ]
    },
    {
      "cell_type": "markdown",
      "metadata": {
        "id": "YSNkgGXmOBty"
      },
      "source": [
        "## **8. Vídeo. Realizar un breve vídeo explicativo de la práctica (máximo 10 minutos), donde ambos integrantes del equipo expliquen con sus propias palabras el desarrollo de la práctica, basándose en las preguntas del enunciado para justificar y explicar el código desarrollado. Este vídeo se deberá entregar a través de un enlace al Google Drive de la UOC (https://drive.google.com/…), junto con enlace al repositorio Git entregado.**"
      ]
    }
  ],
  "metadata": {
    "colab": {
      "provenance": []
    },
    "kernelspec": {
      "display_name": "Python 3",
      "language": "python",
      "name": "python3"
    },
    "language_info": {
      "codemirror_mode": {
        "name": "ipython",
        "version": 3
      },
      "file_extension": ".py",
      "mimetype": "text/x-python",
      "name": "python",
      "nbconvert_exporter": "python",
      "pygments_lexer": "ipython3",
      "version": "3.13.2"
    }
  },
  "nbformat": 4,
  "nbformat_minor": 0
}
